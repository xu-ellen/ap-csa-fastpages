{
 "cells": [
  {
   "cell_type": "markdown",
   "metadata": {},
   "source": [
    "# Unit 2 Using Objects\n",
    "> Notes/HW\n",
    "\n",
    "- toc: true\n",
    "- badges: true\n",
    "- comments: true\n",
    "- categories: [jupyter]"
   ]
  },
  {
   "cell_type": "markdown",
   "metadata": {},
   "source": [
    "## Objects notes\n",
    "\n",
    "- Object is an instance of a class with a specific set of attributes\n",
    "- Class is a blueprint for an object\n",
    "- Signature is the constructor name and the attributes ex. public class Person(String name, int age)\n",
    "   - Constructor is a special method that is called when an object is created ex. public Person(String name, int age)\n",
    "   - Has the same name as the class\n",
    "- A constructor is overloaded if it has multiple signatures ex. public Person(String name) and public Person(int age)\n",
    "- Object is created with the new keyword ex. Person p = new Person(\"John\", 20)\n",
    "- Null is a special value that represents no object\n",
    "- Non-static methods are called on an object ex. p.getName()\n",
    "    - Static methods are called on the class ex. Person.getPopulation()"
   ]
  },
  {
   "cell_type": "code",
   "execution_count": 13,
   "metadata": {},
   "outputs": [
    {
     "name": "stdout",
     "output_type": "stream",
     "text": [
      "John\n",
      "Name: John Doe Age: 30\n",
      "5\n",
      "1\n"
     ]
    }
   ],
   "source": [
    "// creating a string object\n",
    "\n",
    "String name = \"John\";\n",
    "System.out.println(name);\n",
    "\n",
    "// concatenating strings\n",
    "\n",
    "String firstName = \"John\";\n",
    "String lastName = \"Doe\";\n",
    "\n",
    "String fullName = firstName + \" \" + lastName;\n",
    "\n",
    "// concatenate with primitive types\n",
    "\n",
    "int age = 30;\n",
    "String info = \"Name: \" + firstName + \" \" + lastName + \" Age: \" + age;\n",
    "System.out.println(info); // using toString() method\n",
    "\n",
    "// get length of info\n",
    "\n",
    "int length = info.length();\n",
    "\n",
    "// integers\n",
    "\n",
    "Integer.MIN_VALUE;\n",
    "Integer.MAX_VALUE;\n",
    "\n",
    "Integer myInt = 5;\n",
    "\n",
    "int value = myInt.intValue();\n",
    "System.out.println(value);\n",
    "\n",
    "// double\n",
    "\n",
    "Double myDouble = 5.99;\n",
    "\n",
    "// math\n",
    "\n",
    "int result = Math.abs(-1);\n",
    "System.out.println(result);"
   ]
  }
 ],
 "metadata": {
  "kernelspec": {
   "display_name": "Java",
   "language": "java",
   "name": "java"
  },
  "language_info": {
   "codemirror_mode": "java",
   "file_extension": ".jshell",
   "mimetype": "text/x-java-source",
   "name": "java",
   "pygments_lexer": "java",
   "version": "11.0.16+8-post-Ubuntu-0ubuntu120.04"
  }
 },
 "nbformat": 4,
 "nbformat_minor": 2
}

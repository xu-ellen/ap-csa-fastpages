{
 "cells": [
  {
   "cell_type": "markdown",
   "metadata": {},
   "source": [
    "# Unit 5 Classes\n",
    "> Notes/HW\n",
    "\n",
    "- toc: true\n",
    "- badges: true\n",
    "- comments: true\n",
    "- categories: [jupyter, cb]"
   ]
  },
  {
   "cell_type": "markdown",
   "metadata": {},
   "source": [
    "## Classes Notes\n",
    "\n",
    "- A class has: instance variables/attributes, methods, and a constructor\n",
    "    - Methods include getters and setters\n",
    "\n",
    "Instance variables and constructor\n",
    "\n",
    "```java\n",
    "\n",
    "public class Cow {\n",
    "\n",
    "    // instance variables\n",
    "    private String cowType;\n",
    "    private String sound;\n",
    "    private int numMilkings;\n",
    "\n",
    "    // constructor\n",
    "    public Cow (String cowType, String sound){\n",
    "        this.numMilkings = 0;\n",
    "        this.cowType = cowType;\n",
    "        this.sound = sound;\n",
    "    }\n",
    "}\n",
    "```\n",
    "\n",
    "- private variables can only be accessed within the class\n",
    "    - Instance variables are private\n",
    "- public variables can be accessed outside the class\n",
    "    - Classes and constructors are public\n",
    "\n",
    "Methods\n",
    "\n",
    "```java\n",
    "// all-args constructor\n",
    "public Cow(String cowType, String sound, int numMilkings){\n",
    "    this.numMilkings = numMilkings;\n",
    "    this.cowType = cowType;\n",
    "    this.sound = sound;\n",
    "}\n",
    "\n",
    "\n",
    "public Cow (String cowType, String sound){\n",
    "    this.numMilkings = 0;\n",
    "    this.cowType = cowType;\n",
    "    this.sound = sound;\n",
    "}\n",
    "\n",
    "public static void main(String[] args) {\n",
    "    Cow firstCow = new Cow(\"holstein\", \"moo\");\n",
    "    Cow secondCow = new Cow();\n",
    "    Cow thirdCow = new Cow(\"holstein\", \"moo\", 100);\n",
    "}\n",
    "```\n",
    "\n",
    "- `this` refers to the current instance of the class\n",
    "- `this` is used to distinguish between instance variables and parameters\n",
    "- String[] args is the command line arguments\n",
    "- Setters typically use void, getters return variable type\n",
    "\n",
    "Constructor\n",
    "\n",
    "```java\n",
    "// default constructor\n",
    "public Snack(){\n",
    "    name = null;\n",
    "    calories = 0;\n",
    "}\n",
    "\n",
    "// constructor parameters (n and c) are local variables for the constructor only\n",
    "    // you cannot use n and c anywhere else unless you specify them as parameters for another method\n",
    "public Snack(String n, int c){\n",
    "    name = n;\n",
    "    calories = c;\n",
    "}\n",
    "```\n",
    "\n",
    "toString() method can be used to override the default System.out.println() method\n",
    "\n",
    "```java\n",
    "public String toString(){\n",
    "    return \"Name: \" + name + \" Calories: \" + calories;\n",
    "}\n",
    "```"
   ]
  },
  {
   "cell_type": "code",
   "execution_count": 11,
   "metadata": {},
   "outputs": [],
   "source": [
    "// example class\n",
    "\n",
    "public class ExampleClass {\n",
    "\n",
    "    // class variables\n",
    "    public String attribute;\n",
    "    public String field;\n",
    "\n",
    "    // use this to initialize the class\n",
    "    public ExampleClass() {\n",
    "        this.attribute = \"this is an attribute\";\n",
    "    }\n",
    "\n",
    "    public void method() {\n",
    "        String field = \"this is a local variable\";\n",
    "        System.out.println(field);\n",
    "        System.out.println(this.field);\n",
    "    }\n",
    "}"
   ]
  },
  {
   "cell_type": "code",
   "execution_count": 12,
   "metadata": {},
   "outputs": [
    {
     "name": "stdout",
     "output_type": "stream",
     "text": [
      "this is an attribute\n"
     ]
    }
   ],
   "source": [
    "// demo\n",
    "\n",
    "ExampleClass example = new ExampleClass();\n",
    "System.out.println(example.attribute);"
   ]
  },
  {
   "cell_type": "code",
   "execution_count": 17,
   "metadata": {},
   "outputs": [
    {
     "name": "stdout",
     "output_type": "stream",
     "text": [
      "Hello World\n",
      "Hello World test\n"
     ]
    }
   ],
   "source": [
    "// main and tester methods\n",
    "\n",
    "public class Main {\n",
    "\n",
    "    public static void main(String[] args) {\n",
    "        System.out.println(\"Hello World\");\n",
    "    }\n",
    "\n",
    "    public void tester() {\n",
    "        System.out.println(\"Hello World test\");\n",
    "    }\n",
    "}\n",
    "\n",
    "// demo\n",
    "\n",
    "Main main = new Main();\n",
    "main.main(null);\n",
    "main.tester();"
   ]
  },
  {
   "cell_type": "code",
   "execution_count": 18,
   "metadata": {},
   "outputs": [
    {
     "name": "stdout",
     "output_type": "stream",
     "text": [
      "this is a method\n",
      "Hello World test\n"
     ]
    }
   ],
   "source": [
    "// inheritance and extends\n",
    "\n",
    "public class ExampleClass extends Main {\n",
    "\n",
    "    public ExampleClass() {\n",
    "        super();\n",
    "    }\n",
    "\n",
    "    public void method() {\n",
    "        System.out.println(\"this is a method\");\n",
    "    }\n",
    "}\n",
    "\n",
    "// demo\n",
    "\n",
    "ExampleClass example = new ExampleClass();\n",
    "example.method();\n",
    "example.tester();"
   ]
  },
  {
   "cell_type": "code",
   "execution_count": 19,
   "metadata": {},
   "outputs": [],
   "source": [
    "// subclass constructor\n",
    "\n",
    "public class ExampleClass extends Main {\n",
    "\n",
    "    public ExampleClass() {\n",
    "        super();\n",
    "    }\n",
    "\n",
    "    public ExampleClass(String name) {\n",
    "        super();\n",
    "        System.out.println(name);\n",
    "    }\n",
    "\n",
    "    public void method() {\n",
    "        System.out.println(\"this is a method\");\n",
    "    }\n",
    "\n",
    "    public void method(String name) {   // overloading\n",
    "        System.out.println(\"this is a method \" + name);\n",
    "    }\n",
    "\n",
    "    // overriding a method\n",
    "    @Override\n",
    "    public void tester() {\n",
    "        System.out.println(\"this is an overridden method\");\n",
    "    }\n",
    "}"
   ]
  },
  {
   "cell_type": "code",
   "execution_count": 21,
   "metadata": {},
   "outputs": [
    {
     "name": "stdout",
     "output_type": "stream",
     "text": [
      "this is a specific implementation of the abstract method\n",
      "regular method\n"
     ]
    }
   ],
   "source": [
    "// abstract class and method\n",
    "\n",
    "abstract class AbstractClass {\n",
    "  \n",
    "  // abstract method does not have a body    \n",
    "  public abstract void method();\n",
    "  // abstract class can have both abstract and regular methods\n",
    "  public void regularMethod() {\n",
    "    System.out.println(\"regular method\");\n",
    "  }\n",
    "}\n",
    "\n",
    "class ExampleClass extends AbstractClass {\n",
    "\n",
    "    public ExampleClass() {\n",
    "        super();\n",
    "    }\n",
    "\n",
    "    public void method() {\n",
    "        System.out.println(\"this is a specific implementation of the abstract method\");\n",
    "    }\n",
    "}\n",
    "\n",
    "// demo\n",
    "\n",
    "ExampleClass example = new ExampleClass();\n",
    "example.method();\n",
    "example.regularMethod();"
   ]
  },
  {
   "cell_type": "code",
   "execution_count": 22,
   "metadata": {},
   "outputs": [
    {
     "name": "stdout",
     "output_type": "stream",
     "text": [
      "true\n",
      "this is a specific implementation of the interface method\n"
     ]
    }
   ],
   "source": [
    "// hashcode and equals\n",
    "\n",
    "public class ExampleClass {\n",
    "\n",
    "    public String name;\n",
    "    public int age;\n",
    "\n",
    "    public ExampleClass(String name, int age) {\n",
    "        this.name = name;\n",
    "        this.age = age;\n",
    "    }\n",
    "\n",
    "    @Override\n",
    "    public boolean equals(Object obj) {\n",
    "        if (obj == this) {\n",
    "            return true;\n",
    "        }\n",
    "        if (!(obj instanceof ExampleClass)) {\n",
    "            return false;\n",
    "        }\n",
    "        ExampleClass example = (ExampleClass) obj;\n",
    "        return example.name.equals(this.name) && example.age == this.age;\n",
    "    }\n",
    "\n",
    "    @Override\n",
    "    public int hashCode() {\n",
    "        return Objects.hash(this.name, this.age);\n",
    "    }\n",
    "}\n",
    "\n",
    "// demo\n",
    "\n",
    "ExampleClass example1 = new ExampleClass(\"John\", 20);\n",
    "ExampleClass example2 = new ExampleClass(\"John\", 20);\n",
    "System.out.println(example1.equals(example2));\n",
    "\n",
    "// interfaces\n",
    "\n",
    "interface Interface {\n",
    "    public void method();\n",
    "}\n",
    "\n",
    "class ExampleClass implements Interface {\n",
    "\n",
    "    public ExampleClass() {\n",
    "        super();\n",
    "    }\n",
    "\n",
    "    public void method() {\n",
    "        System.out.println(\"this is a specific implementation of the interface method\");\n",
    "    }\n",
    "}\n",
    "\n",
    "// demo\n",
    "\n",
    "ExampleClass example = new ExampleClass();\n",
    "example.method();\n"
   ]
  },
  {
   "cell_type": "code",
   "execution_count": 23,
   "metadata": {},
   "outputs": [
    {
     "name": "stdout",
     "output_type": "stream",
     "text": [
      "2314539\n"
     ]
    }
   ],
   "source": [
    "// hashcode of string\n",
    "\n",
    "String name = \"John\";\n",
    "System.out.println(name.hashCode());\n"
   ]
  },
  {
   "cell_type": "markdown",
   "metadata": {},
   "source": [
    "Interface vs Abstract Class\n",
    "\n",
    "- Abstract class can have instance variables and methods\n",
    "- Interface can only have methods; meant to achieve security\n",
    "- Abstract class can be extended by a class, whereas Interface is implemented (a class can have multiple interfaces)\n",
    "- Abstract class can have a constructor, whereas Interface cannot"
   ]
  },
  {
   "cell_type": "markdown",
   "metadata": {},
   "source": [
    "Big O notation for Hash map, Binary Search, Single loop, Nested loop\n",
    "\n",
    "- Hash map: O(1)\n",
    "- Binary Search: O(log n)\n",
    "- Single loop: O(n)\n",
    "- Nested loop: O(n^2)"
   ]
  }
 ],
 "metadata": {
  "kernelspec": {
   "display_name": "Java",
   "language": "java",
   "name": "java"
  },
  "language_info": {
   "codemirror_mode": "java",
   "file_extension": ".jshell",
   "mimetype": "text/x-java-source",
   "name": "java",
   "pygments_lexer": "java",
   "version": "17.0.5+8-Ubuntu-2ubuntu120.04"
  }
 },
 "nbformat": 4,
 "nbformat_minor": 2
}

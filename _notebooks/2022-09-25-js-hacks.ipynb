{
 "cells": [
  {
   "cell_type": "markdown",
   "metadata": {},
   "source": [
    "# JavaScript Coulomb Calculator + Planets\n",
    "> Notebook for JS hacks\n",
    "\n",
    "- toc: true\n",
    "- badges: true\n",
    "- comments: true\n",
    "- categories: [jupyter]"
   ]
  },
  {
   "cell_type": "markdown",
   "metadata": {},
   "source": [
    "## Code\n",
    "\n",
    "```html\n",
    "<!DOCTYPE html>\n",
    "\n",
    "<html lang=\"en\">\n",
    "\n",
    "<head>  \n",
    "    <meta charset=\"utf-8\">  \n",
    "    <title>  \n",
    "        Coulomb Calculator  \n",
    "    </title>\n",
    "</head>\n",
    "\n",
    "<!-- Create text inputs for q1, q2, r -->\n",
    "\n",
    "<body>\n",
    "\n",
    "    <h1>\n",
    "        Coulomb Calculator\n",
    "    </h1>\n",
    "\n",
    "    <!-- <div> -->\n",
    "\n",
    "        <label for=\"q1\">Q1:</label>\n",
    "        <input type=\"text\" id=\"q1\" name=\"q1\" required minlength=\"4\" maxlength=\"8\" size=\"10\">\n",
    "\n",
    "        <label for=\"q2\">Q2:</label>\n",
    "        <input type=\"text\" id=\"q2\" name=\"q2\" required minlength=\"4\" maxlength=\"8\" size=\"10\">\n",
    "\n",
    "        <label for=\"r\">R:</label>\n",
    "        <input type=\"text\" id=\"r\" name=\"r\" required minlength=\"4\" maxlength=\"8\" size=\"10\">\n",
    "\n",
    "    <!-- </div> -->\n",
    "\n",
    "<!-- Create a button to calculate the result -->\n",
    "\n",
    "    <!-- </div> -->\n",
    "\n",
    "        <input type=\"submit\" value=\"Calculate\" onclick=\"calculate()\"/>\n",
    "\n",
    "    <!-- </div> -->\n",
    "\n",
    "<!-- Create div for output -->\n",
    "    \n",
    "        <!-- <div> -->\n",
    "    \n",
    "            <p id=\"result\"></p>\n",
    "    \n",
    "        <!-- </div> -->\n",
    "\n",
    "</body>\n",
    "\n",
    "</html>\n",
    "```\n",
    "\n",
    "```javascript\n",
    "<script>\n",
    "    function calculate() {\n",
    "        console.log(\"Calculate button clicked\") // Test to see if the button works\n",
    "\n",
    "        // Get the values from the text inputs\n",
    "        var q1 = document.getElementById(\"q1\").value;\n",
    "        var q2 = document.getElementById(\"q2\").value;\n",
    "        var r = document.getElementById(\"r\").value;\n",
    "        var k = 8.99 * Math.pow(10, 9);\n",
    "\n",
    "        // Calculate the result\n",
    "        var result = k * (q1 * q2) / (r * r);\n",
    "\n",
    "        // Display the result\n",
    "        // alert(\"The result is \" + result);\n",
    "        document.getElementById(\"result\").innerHTML = \"The result is \" + result;\n",
    "    }\n",
    "</script>\n",
    "```"
   ]
  },
  {
   "cell_type": "markdown",
   "metadata": {},
   "source": [
    "## Class Structure for Planets"
   ]
  },
  {
   "cell_type": "markdown",
   "metadata": {},
   "source": [
    "```javascript\n",
    "\n",
    "function Planet(mass, radius, name) {\n",
    "    this.mass = mass;\n",
    "    this.radius = radius;\n",
    "    this.name = name;\n",
    "    this.moon = null;\n",
    "}\n",
    "\n",
    "Planet.prototype.density = function() {\n",
    "    return this.mass / (4 / 3 * Math.PI * this.radius ** 3);\n",
    "}\n",
    "\n",
    "Planet.prototype.volume = function() {\n",
    "    return 4 / 3 * Math.PI * this.radius ** 3;\n",
    "}\n",
    "\n",
    "Planet.prototype.surfaceArea = function() {\n",
    "    return 4 * Math.PI * this.radius ** 2;\n",
    "}\n",
    "\n",
    "Planet.prototype.gravAccel = function() {\n",
    "    return 6.674e-11 * this.mass / this.radius ** 2;\n",
    "}\n",
    "\n",
    "Planet.prototype.gravForce = function(mass) {\n",
    "    return this.gravAccel() * mass;\n",
    "}\n",
    "\n",
    "Planet.prototype.escapeVelocity = function() {\n",
    "    return Math.sqrt(2 * this.gravAccel() * this.radius);\n",
    "}\n",
    "\n",
    "var earth = new Planet(5.972e24, 6371e3, \"Earth\");\n",
    "var moon = new Planet(7.34767309e22, 1737.1e3, \"Moon\");\n",
    "\n",
    "earth.moon = moon;\n",
    "\n",
    "console.log(earth);\n",
    "\n",
    "```"
   ]
  },
  {
   "cell_type": "markdown",
   "metadata": {},
   "source": [
    "### Using prototypes and class"
   ]
  },
  {
   "cell_type": "markdown",
   "metadata": {},
   "source": [
    "```javascript\n",
    "\n",
    "var planets = [\n",
    "        new Planet(5.972e24, 6371e3, \"Earth\"),\n",
    "        new Planet(7.34767309e22, 1737.1e3, \"Moon\"),\n",
    "        new Planet(1.989e30, 6.957e8, \"Sun\"),\n",
    "        new Planet(1.898e27, 3.39e6, \"Mercury\"),\n",
    "        new Planet(5.683e26, 6.0518e6, \"Venus\"),\n",
    "        new Planet(6.39e23, 3.3895e6, \"Mars\"),\n",
    "        new Planet(1.898e27, 6.0518e7, \"Jupiter\"),\n",
    "        new Planet(5.683e26, 3.3895e7, \"Saturn\"),\n",
    "        new Planet(6.39e23, 6.0518e7, \"Uranus\"),\n",
    "        new Planet(1.898e27, 3.3895e7, \"Neptune\"),\n",
    "        new Planet(5.683e26, 6.0518e7, \"Pluto\"),\n",
    "    ];\n",
    "\n",
    "    function System(planets) {\n",
    "        this.planets = planets;\n",
    "        this.planets.forEach(function(planet) {\n",
    "            this[planet.name] = planet;\n",
    "        }, this);\n",
    "\n",
    "        this.moons = planets.filter(function(planet) {\n",
    "            return planet.moon;\n",
    "        });\n",
    "\n",
    "        this.moons.forEach(function(moon) {\n",
    "            this[moon.name] = moon;\n",
    "        }, this);\n",
    "\n",
    "    }\n",
    "\n",
    "    solar = new System(planets);\n",
    "    console.log(solar);\n",
    "\n",
    "    System.prototype._toHtml = function() {\n",
    "        var html = \"<table>\";\n",
    "        html += \"<tr><th>Planet</th><th>Mass</th><th>Radius</th><th>Density</th><th>Volume</th><th>Surface Area</th><th>Grav. Accel.</th><th>Escape Velocity</th></tr>\";\n",
    "        this.planets.forEach(function(planet) {\n",
    "            html += \"<tr>\";\n",
    "            html += \"<td>\" + planet.name + \"</td>\";\n",
    "            html += \"<td>\" + planet.mass + \"</td>\";\n",
    "            html += \"<td>\" + planet.radius + \"</td>\";\n",
    "            html += \"<td>\" + planet.density() + \"</td>\";\n",
    "            html += \"<td>\" + planet.volume() + \"</td>\";\n",
    "            html += \"<td>\" + planet.surfaceArea() + \"</td>\";\n",
    "            html += \"<td>\" + planet.gravAccel() + \"</td>\";\n",
    "            html += \"<td>\" + planet.escapeVelocity() + \"</td>\";\n",
    "            html += \"</tr>\";\n",
    "        });\n",
    "        html += \"</table>\";\n",
    "        return html;\n",
    "    }\n",
    "\n",
    "    // print to div planets\n",
    "    console.log(solar._toHtml())\n",
    "    document.getElementById(\"planets\").innerHTML = solar._toHtml();\n",
    "\n",
    "    ```"
   ]
  },
  {
   "cell_type": "markdown",
   "metadata": {},
   "source": [
    "### Debugging"
   ]
  },
  {
   "cell_type": "markdown",
   "metadata": {},
   "source": [
    "Testing on localhost"
   ]
  },
  {
   "cell_type": "markdown",
   "metadata": {},
   "source": [
    "![image1](https://user-images.githubusercontent.com/56745453/192595818-7ba0e410-5b18-4c4d-9171-8d029ce5fde3.png)"
   ]
  },
  {
   "cell_type": "markdown",
   "metadata": {},
   "source": [
    "Console log"
   ]
  },
  {
   "cell_type": "markdown",
   "metadata": {},
   "source": [
    "![image2](https://user-images.githubusercontent.com/56745453/192595965-555f1b42-193a-46b3-b4f2-8342aa596a03.png)"
   ]
  }
 ],
 "metadata": {
  "kernelspec": {
   "display_name": "JavaScript (Node.js)",
   "language": "javascript",
   "name": "javascript"
  },
  "language_info": {
   "file_extension": ".js",
   "mimetype": "application/javascript",
   "name": "javascript",
   "version": "10.13.0"
  }
 },
 "nbformat": 4,
 "nbformat_minor": 2
}

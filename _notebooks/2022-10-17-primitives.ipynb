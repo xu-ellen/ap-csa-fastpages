{
 "cells": [
  {
   "cell_type": "markdown",
   "metadata": {},
   "source": [
    "# Unit 1 Primitives\n",
    "> Notes/HW\n",
    "\n",
    "- toc: true\n",
    "- badges: true\n",
    "- comments: true\n",
    "- categories: [jupyter]"
   ]
  },
  {
   "cell_type": "markdown",
   "metadata": {},
   "source": [
    "## Primitives types notes\n",
    "\n",
    "- Definition: primitive data types are basic data types from which all others are constructed\n",
    "- 3 primitives data types used in Java are int, double, and boolean\n",
    "   - Variables declared final are constants and cannot be changed\n",
    "- Literal values are values that are written directly into the code ex. string literal\n",
    "- Arithmetic operators are used to perform mathematical operations on numbers\n",
    "   - Single operators are used to perform operations on a single value ex. unary operator\n",
    "   - Compound operators are used to perform operations on a single value and assign the result to the same variable ex. x += 5\n",
    "- Casting is the process of converting a value from one type to another\n",
    "   - Casting is done by placing the type in parentheses before the value ex. (double) x\n",
    "- Integer overflow occurs when the result of an operation is too large to be stored in the variable ie greater than 4 bytes"
   ]
  },
  {
   "cell_type": "markdown",
   "metadata": {},
   "source": [
    "### Grade Calculator"
   ]
  },
  {
   "cell_type": "code",
   "execution_count": 9,
   "metadata": {
    "vscode": {
     "languageId": "java"
    }
   },
   "outputs": [
    {
     "ename": "UnresolvedReferenceException",
     "evalue": "Attempt to use definition snippet with unresolved references in Snippet:ClassKey(GradeCalculator)#16-\n\npublic class GradeCalculator {\n    public static void main() {\n        while (true) {\n            Scanner dd = new Scanner(System.in);\n            System.out.print(\"Enter final category (seperate/tests): \");\n            try {\n                category = dd.nextLine();\n                System.out.println(category);\n                break;\n            } catch (Exception e) { // catch non-numerical input\n                System.out.println(\"Not a string, \" + e);\n            }\n            dd.close();\n        }\n    }\n}",
     "output_type": "error",
     "traceback": [
      "\u001b[1m\u001b[30m|   \u001b[1m\u001b[30m\u001b[0m",
      "\u001b[1m\u001b[30m|   \u001b[1m\u001b[30m\u001b[0m",
      "\u001b[1m\u001b[30m|   \u001b[1m\u001b[30mpublic class GradeCalculator {\u001b[0m",
      "\u001b[1m\u001b[30m|   \u001b[1m\u001b[30m    public static void main() {\u001b[0m",
      "\u001b[1m\u001b[30m|   \u001b[1m\u001b[30m        while (true) {\u001b[0m",
      "\u001b[1m\u001b[30m|   \u001b[1m\u001b[30m            Scanner dd = new Scanner(System.in);\u001b[0m",
      "\u001b[1m\u001b[30m|   \u001b[1m\u001b[30m            System.out.print(\"Enter final category (seperate/tests): \");\u001b[0m",
      "\u001b[1m\u001b[30m|   \u001b[1m\u001b[30m            try {\u001b[0m",
      "\u001b[1m\u001b[30m|   \u001b[1m\u001b[30m                category = dd.nextLine();\u001b[0m",
      "\u001b[1m\u001b[30m|   \u001b[1m\u001b[30m                System.out.println(category);\u001b[0m",
      "\u001b[1m\u001b[30m|   \u001b[1m\u001b[30m                break;\u001b[0m",
      "\u001b[1m\u001b[30m|   \u001b[1m\u001b[30m            } catch (Exception e) { // catch non-numerical input\u001b[0m",
      "\u001b[1m\u001b[30m|   \u001b[1m\u001b[30m                System.out.println(\"Not a string, \" + e);\u001b[0m",
      "\u001b[1m\u001b[30m|   \u001b[1m\u001b[30m            }\u001b[0m",
      "\u001b[1m\u001b[30m|   \u001b[1m\u001b[30m            dd.close();\u001b[0m",
      "\u001b[1m\u001b[30m|   \u001b[1m\u001b[30m        }\u001b[0m",
      "\u001b[1m\u001b[30m|   \u001b[1m\u001b[30m    }\u001b[0m",
      "\u001b[1m\u001b[30m|   \u001b[1m\u001b[30m}\u001b[0m",
      "\u001b[1m\u001b[31mUnresolved dependencies:\u001b[0m",
      "\u001b[1m\u001b[31m   - variable category\u001b[0m"
     ]
    }
   ],
   "source": [
    "import java.util.Scanner;\n",
    "\n",
    "public class GradeCalculator {\n",
    "    public static void main() {\n",
    "        while (true) {\n",
    "            Scanner dd = new Scanner(System.in);\n",
    "            System.out.print(\"Enter final category (seperate/tests): \");\n",
    "            try {\n",
    "                category = dd.nextLine();\n",
    "                System.out.println(category);\n",
    "                break;\n",
    "            } catch (Exception e) { // catch non-numerical input\n",
    "                System.out.println(\"Not a string, \" + e);\n",
    "            }\n",
    "            dd.close();\n",
    "        }\n",
    "    }\n",
    "}\n",
    "\n",
    "GradeCalculator.main();"
   ]
  }
 ],
 "metadata": {
  "kernelspec": {
   "display_name": "Java",
   "language": "java",
   "name": "java"
  },
  "language_info": {
   "codemirror_mode": "java",
   "file_extension": ".jshell",
   "mimetype": "text/x-java-source",
   "name": "Java",
   "pygments_lexer": "java",
   "version": "11.0.16+8-post-Ubuntu-0ubuntu120.04"
  }
 },
 "nbformat": 4,
 "nbformat_minor": 2
}

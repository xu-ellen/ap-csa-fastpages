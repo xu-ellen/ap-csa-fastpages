{
 "cells": [
  {
   "cell_type": "markdown",
   "metadata": {},
   "source": [
    "# Unit 1 Primitives\n",
    "> Notes/HW\n",
    "\n",
    "- toc: true\n",
    "- badges: true\n",
    "- comments: true\n",
    "- categories: [jupyter]"
   ]
  },
  {
   "cell_type": "markdown",
   "metadata": {},
   "source": [
    "## Primitives types notes\n",
    "\n",
    "- Definition: primitive data types are basic data types from which all others are constructed\n",
    "- 3 primitives data types used in Java are int, double, and boolean\n",
    "   - Variables declared final are constants and cannot be changed\n",
    "- Literal values are values that are written directly into the code ex. string literal\n",
    "- Arithmetic operators are used to perform mathematical operations on numbers\n",
    "   - Single operators are used to perform operations on a single value ex. unary operator\n",
    "   - Compound operators are used to perform operations on a single value and assign the result to the same variable ex. x += 5\n",
    "- Casting is the process of converting a value from one type to another\n",
    "   - Casting is done by placing the type in parentheses before the value ex. (double) x\n",
    "- Integer overflow occurs when the result of an operation is too large to be stored in the variable ie greater than 4 bytes"
   ]
  },
  {
   "cell_type": "markdown",
   "metadata": {},
   "source": [
    "### Grade Calculator"
   ]
  },
  {
   "cell_type": "code",
   "execution_count": 4,
   "metadata": {
    "vscode": {
     "languageId": "java"
    }
   },
   "outputs": [
    {
     "name": "stdout",
     "output_type": "stream",
     "text": [
      "Enter final category (separate/tests): separate\n",
      "Current grade: 90.0\n",
      "Percentage of grade that is final: 20.0\n",
      "Desired grade: 95.0\n",
      "You need a 115.00% on the test\n"
     ]
    }
   ],
   "source": [
    "import java.util.Scanner;\n",
    "\n",
    "public class GradeCalculator {\n",
    "\n",
    "    private String category;\n",
    "    private double current;\n",
    "    private double percent;\n",
    "    private double desired;\n",
    "    private double test;\n",
    "\n",
    "    public double calculate() {\n",
    "        this.enterCat();\n",
    "\n",
    "        if (category.equals(\"separate\")) {\n",
    "            this.enterVals();\n",
    "            // current * (1-percent) + test * percent = desired\n",
    "            test = (desired - (current * (1-percent/100))) / (percent/100); // Ex. 95 - (90 * (1 - .20)) / .20\n",
    "        }\n",
    "\n",
    "        else if (category.equals(\"tests\")) {\n",
    "            this.enterVals();\n",
    "            this.enterPoints();\n",
    "        }\n",
    "\n",
    "        return test;\n",
    "    }\n",
    "\n",
    "    private void enterCat() {\n",
    "        while (true) {\n",
    "            Scanner dd = new Scanner(System.in);\n",
    "            System.out.print(\"Enter final category (separate/tests): \");\n",
    "            try {\n",
    "                category = dd.nextLine();\n",
    "                System.out.println(category);\n",
    "                break;\n",
    "\n",
    "            } catch (Exception e) { // catch non-numerical input\n",
    "                System.out.println(\"Not a string, \" + e);\n",
    "            }\n",
    "            dd.close();\n",
    "        }\n",
    "    }\n",
    "\n",
    "    private void enterVals() {\n",
    "        while (true) {\n",
    "            Scanner dd2 = new Scanner(System.in);\n",
    "            System.out.print(\"Current grade: \");\n",
    "            try {\n",
    "                current = dd2.nextDouble();\n",
    "                System.out.println(current);\n",
    "                break;\n",
    "            } catch (Exception e) { // catch non-numerical input\n",
    "                System.out.println(current + \"not a double, \" + e);\n",
    "            }\n",
    "            dd2.close();\n",
    "        }\n",
    "\n",
    "        while (true) {\n",
    "            Scanner dd3 = new Scanner(System.in);\n",
    "            System.out.print(\"Percentage of grade that is final: \");\n",
    "            try {\n",
    "                percent = dd3.nextDouble();\n",
    "                System.out.println(percent);\n",
    "                break;\n",
    "            } catch (Exception e) { // catch non-numerical input\n",
    "                System.out.println(\"Not a double, \" + e);\n",
    "            }\n",
    "            dd3.close();\n",
    "        }\n",
    "\n",
    "        while (true) {\n",
    "            Scanner dd4 = new Scanner(System.in);\n",
    "            System.out.print(\"Desired grade: \");\n",
    "            try {\n",
    "                desired = dd4.nextDouble();\n",
    "                System.out.println(desired);\n",
    "                break;\n",
    "            } catch (Exception e) { // catch non-numerical input\n",
    "                System.out.println(\"Not a double, \" + e);\n",
    "            }\n",
    "            dd4.close();\n",
    "        }\n",
    "    }\n",
    "\n",
    "    public static void main(String[] args) {    // main method\n",
    "        GradeCalculator calc = new GradeCalculator();\n",
    "        System.out.println(\"You need a \" + String.format(\"%.2f\", calc.calculate()) + \"% on the test\");\n",
    "    }\n",
    "}\n",
    "\n",
    "GradeCalculator.main(null);"
   ]
  }
 ],
 "metadata": {
  "kernelspec": {
   "display_name": "Java",
   "language": "java",
   "name": "java"
  },
  "language_info": {
   "codemirror_mode": "java",
   "file_extension": ".jshell",
   "mimetype": "text/x-java-source",
   "name": "Java",
   "pygments_lexer": "java",
   "version": "11.0.16+8-post-Ubuntu-0ubuntu120.04"
  }
 },
 "nbformat": 4,
 "nbformat_minor": 2
}

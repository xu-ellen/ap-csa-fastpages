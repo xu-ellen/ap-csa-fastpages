{
 "cells": [
  {
   "cell_type": "markdown",
   "metadata": {},
   "source": [
    "# Unit 1 Primitives\n",
    "> Notes/HW\n",
    "\n",
    "- toc: true\n",
    "- badges: true\n",
    "- comments: true\n",
    "- categories: [jupyter]"
   ]
  },
  {
   "cell_type": "markdown",
   "metadata": {},
   "source": [
    "# Primitives types notes\n",
    "\n",
    "- Definition: primitive data types are basic data types from which all others are constructed\n",
    "- 3 primitives data types used in Java are int, double, and boolean\n",
    "   - Variables declared final are constants and cannot be changed\n",
    "- Literal values are values that are written directly into the code ex. string literal\n",
    "- Arithmetic operators are used to perform mathematical operations on numbers\n",
    "   - Single operators are used to perform operations on a single value ex. unary operator\n",
    "   - Compound operators are used to perform operations on a single value and assign the result to the same variable ex. x += 5\n",
    "- Casting is the process of converting a value from one type to another\n",
    "   - Casting is done by placing the type in parentheses before the value ex. (double) x\n",
    "- Integer overflow occurs when the result of an operation is too large to be stored in the variable ie greater than 4 bytes"
   ]
  }
 ],
 "metadata": {
  "kernelspec": {
   "display_name": "JavaScript (Node.js)",
   "language": "javascript",
   "name": "javascript"
  },
  "language_info": {
   "file_extension": ".js",
   "mimetype": "application/javascript",
   "name": "javascript",
   "version": "10.13.0"
  }
 },
 "nbformat": 4,
 "nbformat_minor": 2
}

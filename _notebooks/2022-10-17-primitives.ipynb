{
 "cells": [
  {
   "cell_type": "markdown",
   "metadata": {},
   "source": [
    "# Unit 1 Primitives\n",
    "> Notes/HW\n",
    "\n",
    "- toc: true\n",
    "- badges: true\n",
    "- comments: true\n",
    "- categories: [jupyter]"
   ]
  },
  {
   "cell_type": "markdown",
   "metadata": {},
   "source": [
    "## Primitives types notes\n",
    "\n",
    "- Definition: primitive data types are basic data types from which all others are constructed\n",
    "- 3 primitives data types used in Java are int, double, and boolean\n",
    "   - Variables declared final are constants and cannot be changed\n",
    "- Literal values are values that are written directly into the code ex. string literal\n",
    "- Arithmetic operators are used to perform mathematical operations on numbers\n",
    "   - Single operators are used to perform operations on a single value ex. unary operator\n",
    "   - Compound operators are used to perform operations on a single value and assign the result to the same variable ex. x += 5\n",
    "- Casting is the process of converting a value from one type to another\n",
    "   - Casting is done by placing the type in parentheses before the value ex. (double) x\n",
    "- Integer overflow occurs when the result of an operation is too large to be stored in the variable ie greater than 4 bytes"
   ]
  },
  {
   "cell_type": "markdown",
   "metadata": {},
   "source": [
    "### 2021 AP CSA Questions 1a and 1b"
   ]
  },
  {
   "cell_type": "markdown",
   "metadata": {},
   "source": [
    "(a) Write the WordMatch method scoreGuess. To determine the score to be returned,\n",
    "scoreGuess finds the number of times that guess occurs as a substring of secret and then\n",
    "multiplies that number by the square of the length of guess. Occurrences of guess may overlap\n",
    "within secret.\n",
    "Assume that the length of guess is less than or equal to the length of secret and that guess is\n",
    "not an empty string.\n",
    "The following examples show declarations of a WordMatch object. The tables show the outcomes of\n",
    "some possible calls to the scoreGuess method.\n",
    "WordMatch game = new WordMatch(\"mississippi\");"
   ]
  },
  {
   "cell_type": "markdown",
   "metadata": {},
   "source": [
    "```java\n",
    "/** Returns a score for guess, as described in part (a).\n",
    "* Precondition: 0 < guess.length() <= secret.length()\n",
    "**/\n",
    "public int scoreGuess(String guess) {\n",
    "    int guess_len = guess.length();\n",
    "    int secret_len = secret.length();\n",
    "    int occurrences = 0;\n",
    "\n",
    "    for (int i=0; i<secret_len; i++) {\n",
    "        if (secret.substring(i, i+guess_len).equals(guess)) {\n",
    "            occurrences++;\n",
    "        }\n",
    "    }\n",
    "\n",
    "    return occurrences * guess_len * guess_len;\n",
    "}\n",
    "```"
   ]
  },
  {
   "cell_type": "markdown",
   "metadata": {},
   "source": [
    "### CORRECTION\n",
    "\n",
    "```java\n",
    "public int scoreGuess(String guess) {\n",
    "    int count = 0;\n",
    "    for (int i=0; i<=secret.length()-guess.length(); i++) {\n",
    "        if (secret.substring(i, i+guess.length()).equals(guess)) {\n",
    "            count++;\n",
    "        }\n",
    "    }\n",
    "    return count * guess.length() * guess.length();\n",
    "}\n",
    "```"
   ]
  },
  {
   "cell_type": "markdown",
   "metadata": {},
   "source": [
    "(b) Write the WordMatch method findBetterGuess, which returns the better guess of its two\n",
    "String parameters, guess1 and guess2. If the scoreGuess method returns different\n",
    "values for guess1 and guess2, then the guess with the higher score is returned. If the\n",
    "scoreGuess method returns the same value for guess1 and guess2, then the\n",
    "alphabetically greater guess is returned.\n",
    "The following example shows a declaration of a WordMatch object and the outcomes of some\n",
    "possible calls to the scoreGuess and findBetterGuess methods.\n",
    "WordMatch game = new WordMatch(\"concatenation\"); "
   ]
  },
  {
   "cell_type": "markdown",
   "metadata": {},
   "source": [
    "```java\n",
    "/** Returns the better of two guesses, as determined by scoreGuess and the rules for a\n",
    "* tie-breaker that are described in part (b).\n",
    "* Precondition: guess1 and guess2 contain all lowercase letters.\n",
    "* guess1 is not the same as guess2.\n",
    "*/\n",
    "public String findBetterGuess(String guess1, String guess2) {\n",
    "    int score1 = scoreGuess(guess1);\n",
    "    int score2 = scoreGuess(guess2);\n",
    "\n",
    "    if (score1 > score2) {\n",
    "        return guess1;\n",
    "    } else if (score2 > score1) {\n",
    "        return guess2;\n",
    "    } else {\n",
    "        return guess1.compareTo(guess2) > 0 ? guess1 : guess2;\n",
    "    }\n",
    "}\n",
    "```"
   ]
  },
  {
   "cell_type": "markdown",
   "metadata": {},
   "source": [
    "### Testing"
   ]
  },
  {
   "cell_type": "code",
   "execution_count": 11,
   "metadata": {
    "vscode": {
     "languageId": "java"
    }
   },
   "outputs": [
    {
     "name": "stdout",
     "output_type": "stream",
     "text": [
      "Hello\n",
      "11\n",
      "0\n",
      "50\n",
      "[public boolean java.lang.String.equals(java.lang.Object), public int java.lang.String.length(), public java.lang.String java.lang.String.toString(), public int java.lang.String.hashCode(), public void java.lang.String.getChars(int,int,char[],int), public int java.lang.String.compareTo(java.lang.String), public int java.lang.String.compareTo(java.lang.Object), public int java.lang.String.indexOf(java.lang.String,int), public int java.lang.String.indexOf(int), public int java.lang.String.indexOf(int,int), public int java.lang.String.indexOf(java.lang.String), public static java.lang.String java.lang.String.valueOf(int), public static java.lang.String java.lang.String.valueOf(float), public static java.lang.String java.lang.String.valueOf(boolean), public static java.lang.String java.lang.String.valueOf(long), public static java.lang.String java.lang.String.valueOf(double), public static java.lang.String java.lang.String.valueOf(java.lang.Object), public static java.lang.String java.lang.String.valueOf(char), public static java.lang.String java.lang.String.valueOf(char[]), public static java.lang.String java.lang.String.valueOf(char[],int,int), public java.util.stream.IntStream java.lang.String.codePoints(), public boolean java.lang.String.isEmpty(), public char java.lang.String.charAt(int), public int java.lang.String.codePointAt(int), public int java.lang.String.codePointBefore(int), public int java.lang.String.codePointCount(int,int), public int java.lang.String.offsetByCodePoints(int,int), public byte[] java.lang.String.getBytes(java.nio.charset.Charset), public void java.lang.String.getBytes(int,int,byte[],int), public byte[] java.lang.String.getBytes(java.lang.String) throws java.io.UnsupportedEncodingException, public byte[] java.lang.String.getBytes(), public boolean java.lang.String.contentEquals(java.lang.StringBuffer), public boolean java.lang.String.contentEquals(java.lang.CharSequence), public boolean java.lang.String.equalsIgnoreCase(java.lang.String), public int java.lang.String.compareToIgnoreCase(java.lang.String), public boolean java.lang.String.regionMatches(boolean,int,java.lang.String,int,int), public boolean java.lang.String.regionMatches(int,java.lang.String,int,int), public boolean java.lang.String.startsWith(java.lang.String), public boolean java.lang.String.startsWith(java.lang.String,int), public boolean java.lang.String.endsWith(java.lang.String), public int java.lang.String.lastIndexOf(int), public int java.lang.String.lastIndexOf(java.lang.String,int), public int java.lang.String.lastIndexOf(java.lang.String), public int java.lang.String.lastIndexOf(int,int), public java.lang.String java.lang.String.substring(int,int), public java.lang.String java.lang.String.substring(int), public java.lang.CharSequence java.lang.String.subSequence(int,int), public java.lang.String java.lang.String.concat(java.lang.String), public java.lang.String java.lang.String.replace(java.lang.CharSequence,java.lang.CharSequence), public java.lang.String java.lang.String.replace(char,char), public boolean java.lang.String.matches(java.lang.String), public boolean java.lang.String.contains(java.lang.CharSequence), public java.lang.String java.lang.String.replaceFirst(java.lang.String,java.lang.String), public java.lang.String java.lang.String.replaceAll(java.lang.String,java.lang.String), public java.lang.String[] java.lang.String.split(java.lang.String), public java.lang.String[] java.lang.String.split(java.lang.String,int), public static java.lang.String java.lang.String.join(java.lang.CharSequence,java.lang.CharSequence[]), public static java.lang.String java.lang.String.join(java.lang.CharSequence,java.lang.Iterable), public java.lang.String java.lang.String.toLowerCase(), public java.lang.String java.lang.String.toLowerCase(java.util.Locale), public java.lang.String java.lang.String.toUpperCase(java.util.Locale), public java.lang.String java.lang.String.toUpperCase(), public java.lang.String java.lang.String.trim(), public java.lang.String java.lang.String.strip(), public java.lang.String java.lang.String.stripLeading(), public java.lang.String java.lang.String.stripTrailing(), public boolean java.lang.String.isBlank(), public java.util.stream.Stream java.lang.String.lines(), public java.util.stream.IntStream java.lang.String.chars(), public char[] java.lang.String.toCharArray(), public static java.lang.String java.lang.String.format(java.lang.String,java.lang.Object[]), public static java.lang.String java.lang.String.format(java.util.Locale,java.lang.String,java.lang.Object[]), public static java.lang.String java.lang.String.copyValueOf(char[],int,int), public static java.lang.String java.lang.String.copyValueOf(char[]), public native java.lang.String java.lang.String.intern(), public java.lang.String java.lang.String.repeat(int), public final native void java.lang.Object.wait(long) throws java.lang.InterruptedException, public final void java.lang.Object.wait(long,int) throws java.lang.InterruptedException, public final void java.lang.Object.wait() throws java.lang.InterruptedException, public final native java.lang.Class java.lang.Object.getClass(), public final native void java.lang.Object.notify(), public final native void java.lang.Object.notifyAll()]\n"
     ]
    }
   ],
   "source": [
    "String test = \"Hello World\";\n",
    "\n",
    "System.out.println(test.substring(0, 5));\n",
    "System.out.println(test.length());\n",
    "System.out.println(test.compareTo(\"Hello World\"));\n",
    "\n",
    "String test2 = \"z\";\n",
    "\n",
    "System.out.println(test2.compareTo(test));\n",
    "\n",
    "// print out methods of the test string\n",
    "System.out.println(Arrays.toString(test.getClass().getMethods()));"
   ]
  }
 ],
 "metadata": {
  "kernelspec": {
   "display_name": "Java",
   "language": "java",
   "name": "java"
  },
  "language_info": {
   "codemirror_mode": "java",
   "file_extension": ".jshell",
   "mimetype": "text/x-java-source",
   "name": "Java",
   "pygments_lexer": "java",
   "version": "11.0.16+8-post-Ubuntu-0ubuntu120.04"
  }
 },
 "nbformat": 4,
 "nbformat_minor": 2
}

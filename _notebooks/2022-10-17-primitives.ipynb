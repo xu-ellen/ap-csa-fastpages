{
 "cells": [
  {
   "cell_type": "markdown",
   "metadata": {},
   "source": [
    "# Unit 1 Primitives\n",
    "> Notes/HW\n",
    "\n",
    "- toc: true\n",
    "- badges: true\n",
    "- comments: true\n",
    "- categories: [jupyter, cb]"
   ]
  },
  {
   "cell_type": "markdown",
   "metadata": {},
   "source": [
    "## Primitives types notes\n",
    "\n",
    "- Definition: primitive data types are basic data types from which all others are constructed\n",
    "- 3 primitives data types used in Java are int, double, and boolean\n",
    "   - Variables declared final are constants and cannot be changed\n",
    "- Literal values are values that are written directly into the code ex. string literal\n",
    "- Arithmetic operators are used to perform mathematical operations on numbers\n",
    "   - Single operators are used to perform operations on a single value ex. unary operator\n",
    "   - Compound operators are used to perform operations on a single value and assign the result to the same variable ex. x += 5\n",
    "- Casting is the process of converting a value from one type to another\n",
    "   - Casting is done by placing the type in parentheses before the value ex. (double) x\n",
    "- Integer overflow occurs when the result of an operation is too large to be stored in the variable ie greater than 4 bytes"
   ]
  },
  {
   "cell_type": "markdown",
   "metadata": {},
   "source": [
    "# Why to use Java? (1.1)\n",
    "\n",
    "Java is an important programming language that is widely used throughout the tech industry and contains many important programmming concepts such as object oriented programming."
   ]
  },
  {
   "cell_type": "markdown",
   "metadata": {},
   "source": [
    "# Basic Java (1.1)\n",
    "\n",
    "- All code that runs must be in the main method (shown below)\n",
    "- To print something, use System.out.print(); and inside the parenthesis put text in quotes (String)\n",
    "    - To print with a new line, use System.out.println();\n",
    "- To comment your code, use // for single line comments and /**/ for multiple lines (example will be shown below)\n",
    "    - It is important to describe how and why your code works, however dont describe obvious things"
   ]
  },
  {
   "cell_type": "code",
   "execution_count": null,
   "metadata": {
    "vscode": {
     "languageId": "java"
    }
   },
   "outputs": [
    {
     "name": "stdout",
     "output_type": "stream",
     "text": [
      "Hello World From Team Oops!\n",
      "Welcome to our presentation!\n",
      "We hope you learn something from it!"
     ]
    }
   ],
   "source": [
    "public class Example {\n",
    "\n",
    "    public static void main(String[] args) {\n",
    "\n",
    "        System.out.print(\"Hello World\");  \n",
    "        System.out.print(\" From Team Oops!\");\n",
    "        System.out.println(); //done to separate two different lines \n",
    "        System.out.println(\"Welcome to our presentation!\");\n",
    "        System.out.print(\"We hope you learn something from it!\");\n",
    "\n",
    "    }\n",
    "}\n",
    "\n",
    "Example.main(null);"
   ]
  },
  {
   "cell_type": "markdown",
   "metadata": {},
   "source": [
    "# Hack 1.1\n",
    "\n",
    "Print your name and your team name in separate lines!\n"
   ]
  },
  {
   "cell_type": "code",
   "execution_count": 2,
   "metadata": {
    "vscode": {
     "languageId": "java"
    }
   },
   "outputs": [
    {
     "name": "stdout",
     "output_type": "stream",
     "text": [
      "Ellen\n",
      "Team JEHB\n"
     ]
    }
   ],
   "source": [
    "public class Printing {\n",
    "    public static void main(String[] args) {\n",
    "        System.out.println(\"Ellen\");\n",
    "        System.out.println(\"Team JEHB\");\n",
    "    }\n",
    "}\n",
    "\n",
    "Printing.main(null);"
   ]
  },
  {
   "cell_type": "markdown",
   "metadata": {},
   "source": [
    "# List of Data Types (1.2)\n",
    "- Data types are different categories in which one can store various types of data.\n",
    "- The main Primitve data types are: \n",
    "    - Integer (int): used for whole numbers\n",
    "    - Double (double): used for numbers with decimals\n",
    "    - Boolean (boolean): used for true or false conditionals\n",
    "- For Primitive types, variables store actual data instead of reference\n",
    "- If the variable is declared final, it cannot be edited\n",
    "- A non Primitive type which is commonly used is String\n",
    "    - Stores text\n",
    "\n"
   ]
  },
  {
   "cell_type": "code",
   "execution_count": null,
   "metadata": {
    "vscode": {
     "languageId": "java"
    }
   },
   "outputs": [
    {
     "name": "stdout",
     "output_type": "stream",
     "text": [
      "10\n",
      "7.99\n",
      "Team Oops is hot:true\n"
     ]
    }
   ],
   "source": [
    "public class Example {\n",
    "\n",
    "    public static void main(String[] args) {\n",
    "\n",
    "        int Herbo = 10;\n",
    "        double gasPrices = 7.99;\n",
    "        final boolean Hot = true;\n",
    "        String name = \"Team Oops is hot:\";\n",
    "\n",
    "        System.out.println(Herbo);\n",
    "        System.out.println(gasPrices);\n",
    "        System.out.println(name + Hot);\n",
    "\n",
    "        // Hot = false; cannot assign a value to final variable Hot \n",
    "\n",
    "    }\n",
    "}\n",
    "\n",
    "Example.main(null);"
   ]
  },
  {
   "cell_type": "markdown",
   "metadata": {},
   "source": [
    "# Hack 1.2\n",
    "Create variables for your biodata (name, age, underclassmen or not, height in feet)\n"
   ]
  },
  {
   "cell_type": "code",
   "execution_count": 10,
   "metadata": {
    "vscode": {
     "languageId": "java"
    }
   },
   "outputs": [
    {
     "name": "stdout",
     "output_type": "stream",
     "text": [
      "Name: Ellen \n",
      "Age: 345 \n",
      "Is underclassmen: false \n",
      "Height: 6.110000\n"
     ]
    }
   ],
   "source": [
    "public class Biodata {\n",
    "\n",
    "    public static void main(String[] args) {\n",
    "        String name = \"Ellen\";\n",
    "        int age = 345;\n",
    "        boolean isUnderClass = false;\n",
    "        double height = 6.11;\n",
    "\n",
    "        String print = String.format(\"Name: %s \\nAge: %d \\nIs underclassmen: %b \\nHeight: %f\", name, age, isUnderClass, height);\n",
    "        System.out.println(print);\n",
    "    }\n",
    "}\n",
    "\n",
    "Biodata.main(null);"
   ]
  },
  {
   "cell_type": "markdown",
   "metadata": {},
   "source": [
    "# Operators (1.3)\n",
    "- In order to perform mathmatical calculations on integers and doubles, you can use operators\n",
    "- Main ones are +, -, *, / \n",
    "    - These are what you expect \n",
    "    - When dividing integers, it always rounds down because output must be an integer\n",
    "    - When dividing by 0, will get the ArithemticException Error\n",
    "- Modulus is %, used to get remainder when two numbers are divided\n"
   ]
  },
  {
   "cell_type": "code",
   "execution_count": null,
   "metadata": {
    "vscode": {
     "languageId": "java"
    }
   },
   "outputs": [
    {
     "name": "stdout",
     "output_type": "stream",
     "text": [
      "7\n",
      "7.0\n",
      "-3\n",
      "-3.0\n",
      "10\n",
      "10.0\n",
      "0\n",
      "0.4\n",
      "1.0\n",
      "1\n"
     ]
    }
   ],
   "source": [
    "public class Math {\n",
    "\n",
    "    public static void main(String[] args) {\n",
    "\n",
    "        int number = 2;\n",
    "        int number2 = 5;\n",
    "        double number3 = 2.0;\n",
    "        double number4 = 5.0;\n",
    "\n",
    "        System.out.println(number+number2);\n",
    "        System.out.println(number3+number4);\n",
    "        System.out.println(number-number2);\n",
    "        System.out.println(number3-number4);\n",
    "        System.out.println(number * number2);\n",
    "        System.out.println(number3 * number4);\n",
    "        System.out.println(number/number2);\n",
    "        System.out.println(number3/number4);\n",
    "        System.out.println(number4 % number3);\n",
    "        System.out.println(number2 % number);\n",
    "    }\n",
    "}\n",
    "\n",
    "Math.main(null);"
   ]
  },
  {
   "cell_type": "markdown",
   "metadata": {},
   "source": [
    "# Hack 1.3\n",
    "- Compute the remainder of 6 multiplied by 1234124 divided by 11345 minus 890809 plus 90800 (use order of operations) is divided by 980098, and store this in a variable called num (get an exact number as opposed to a whole number)\n",
    "- Divide num by 100\n",
    "- Print num"
   ]
  },
  {
   "cell_type": "code",
   "execution_count": 13,
   "metadata": {
    "vscode": {
     "languageId": "java"
    }
   },
   "outputs": [
    {
     "name": "stdout",
     "output_type": "stream",
     "text": [
      "-7922.05\n"
     ]
    }
   ],
   "source": [
    "public class Num {\n",
    "\n",
    "    public static void main(String[] args) {\n",
    "        float num = ((6*1234124)%11345)-890809+90800;\n",
    "        num /= 100.0;\n",
    "        System.out.println(num);\n",
    "    }\n",
    "}\n",
    "\n",
    "Num.main(null);"
   ]
  },
  {
   "cell_type": "markdown",
   "metadata": {},
   "source": [
    "# Assignment operators (1.4)\n",
    "- += adds value of a variabe to another variable and assigns total value to first variable\n",
    "- -= subtracts value of a variabe to another variable and assigns total value to first variable\n",
    "- *= multiplies value of a variabe to another variable and assigns total value to first variable\n",
    "- /= multiplies value of a variabe to another variable and assigns total value to first variable\n",
    "- %= takes the remainder of a variable with a second variable and assigns remainder to first variable\n",
    "- ++ increments a variable by 1, to incrememt by more change second plus to number which you want to incrememnt by\n",
    "- -- subracts a variable by 1, to incrememt by more change second plus to number which you want to subtract by"
   ]
  },
  {
   "cell_type": "markdown",
   "metadata": {},
   "source": [
    "# Hack 1.4\n",
    "- Create a code which performs mathmatical calculations with assignment operators!"
   ]
  },
  {
   "cell_type": "code",
   "execution_count": 20,
   "metadata": {
    "vscode": {
     "languageId": "java"
    }
   },
   "outputs": [
    {
     "name": "stdout",
     "output_type": "stream",
     "text": [
      "Remainder when divided by 4 is 2\n"
     ]
    }
   ],
   "source": [
    "public class Operators {\n",
    "\n",
    "    public static void main(String[] args) {\n",
    "        long num = 23948294;\n",
    "        num %= 4;\n",
    "        System.out.println(\"Remainder when divided by 4 is \" + num);\n",
    "    }\n",
    "}\n",
    "\n",
    "Operators.main(null);"
   ]
  },
  {
   "cell_type": "markdown",
   "metadata": {},
   "source": [
    "# Casting and Ranges (1.5)\n",
    "- Doubles and Integers can be converted to each other using (int) or (double)\n",
    "    - When converting from doubles to integers, will round down\n",
    "- Integers are 4 bytes of data, can store between Integer.MAX_VALUE and Integer.MIN_VALUE\n",
    "\n"
   ]
  },
  {
   "cell_type": "code",
   "execution_count": 22,
   "metadata": {
    "vscode": {
     "languageId": "java"
    }
   },
   "outputs": [
    {
     "name": "stdout",
     "output_type": "stream",
     "text": [
      "10.5\n",
      "100\n",
      "10\n",
      "100.0\n",
      "2147483647\n",
      "-2147483648\n",
      "3.4028235E38\n",
      "1.4E-45\n",
      "1.7976931348623157E308\n",
      "4.9E-324\n"
     ]
    }
   ],
   "source": [
    "public class Cast {\n",
    "\n",
    "    public static void main(String[] args) {\n",
    "        double num = 10.5;\n",
    "        int num2 = 100;\n",
    "        int numInt = (int)num;\n",
    "        double num2Double = (double)num2;\n",
    "\n",
    "        System.out.println(num);\n",
    "        System.out.println(num2);\n",
    "        System.out.println(numInt);\n",
    "        System.out.println(num2Double);\n",
    "        System.out.println(Integer.MAX_VALUE);\n",
    "        System.out.println(Integer.MIN_VALUE);\n",
    "        System.out.println(Float.MAX_VALUE);\n",
    "        System.out.println(Float.MIN_VALUE);\n",
    "        System.out.println(Double.MAX_VALUE);\n",
    "        System.out.println(Double.MIN_VALUE); \n",
    "\n",
    "    }\n",
    "}\n",
    "\n",
    "Cast.main(null);"
   ]
  },
  {
   "cell_type": "code",
   "execution_count": 1,
   "metadata": {
    "vscode": {
     "languageId": "java"
    }
   },
   "outputs": [],
   "source": [
    "// casting for truncating/rounding\n",
    "\n",
    "public class Cast {\n",
    "\n",
    "    public static void main(String[] args) {\n",
    "        double num = 10.5;\n",
    "        int num2 = 100;\n",
    "        int numInt = (int)num;\n",
    "        double num2Double = (double)num2;\n",
    "\n",
    "        System.out.println(num);\n",
    "        System.out.println(num2);\n",
    "        System.out.println(numInt);\n",
    "        System.out.println(num2Double);\n",
    "    }\n",
    "}"
   ]
  },
  {
   "cell_type": "code",
   "execution_count": 3,
   "metadata": {
    "vscode": {
     "languageId": "java"
    }
   },
   "outputs": [
    {
     "name": "stdout",
     "output_type": "stream",
     "text": [
      "0.105\n",
      "0\n"
     ]
    }
   ],
   "source": [
    "// casting for division\n",
    "\n",
    "float x = 10.5f;\n",
    "float y = 100;\n",
    "float z = x/y;\n",
    "\n",
    "System.out.println(z);\n",
    "\n",
    "// cast as int\n",
    "\n",
    "System.out.println((int)z);"
   ]
  },
  {
   "cell_type": "markdown",
   "metadata": {},
   "source": [
    "# Hack 1.5\n",
    "- Convert 123456.123456 into an integer \n",
    "- Set 678901234567890 into an integer (what do you think will happen?)\n"
   ]
  },
  {
   "cell_type": "code",
   "execution_count": 26,
   "metadata": {
    "vscode": {
     "languageId": "java"
    }
   },
   "outputs": [
    {
     "ename": "CompilationException",
     "evalue": "",
     "output_type": "error",
     "traceback": [
      "\u001b[1m\u001b[30m|   \u001b[1m\u001b[30m        int thiswilloverflow = \u001b[0m\u001b[1m\u001b[30m\u001b[41m\u001b[0m\u001b[1m\u001b[30m678901234567890;\u001b[0m",
      "\u001b[1m\u001b[31minteger number too large\u001b[0m",
      ""
     ]
    }
   ],
   "source": [
    "public class CastActivity {\n",
    "\n",
    "    public static void main(String[] args) {\n",
    "        double num = 123456.123456;\n",
    "        int num2 = (int) num;\n",
    "        System.out.println(num2);\n",
    "\n",
    "        int thiswilloverflow = 678901234567890;\n",
    "    }\n",
    "}\n",
    "\n",
    "CastActivity.main(null);"
   ]
  },
  {
   "cell_type": "markdown",
   "metadata": {},
   "source": [
    "# Code Example!"
   ]
  },
  {
   "cell_type": "code",
   "execution_count": null,
   "metadata": {
    "vscode": {
     "languageId": "java"
    }
   },
   "outputs": [
    {
     "name": "stdout",
     "output_type": "stream",
     "text": [
      "What is your name?\n",
      "Kinish\n",
      "How many pizzas do you want to buy?\n",
      "6\n",
      "Do you have the discount (true/false)?\n",
      "true\n",
      "Hi K! You have to pay 7.776 dollars.\n"
     ]
    }
   ],
   "source": [
    "public class Main {\n",
    "    public static void main (String[] args) {\n",
    "      Scanner sc = new Scanner(System.in);\n",
    "      System.out.println(\"What is your name?\");\n",
    "      String name = sc.next(); //string\n",
    "      System.out.println(name);\n",
    "      System.out.println(\"How many pizzas do you want to buy?\");\n",
    "      int pizzas = sc.nextInt(); //integer\n",
    "      System.out.println(pizzas);\n",
    "      System.out.println(\"Do you have the discount (true/false)?\");\n",
    "      boolean hasDiscount = sc.nextBoolean(); //boolean\n",
    "      System.out.println(hasDiscount);\n",
    "  \n",
    "      double price; //double, defaults to 0\n",
    "      if (hasDiscount) {\n",
    "        price = 1.20;\n",
    "      } else {\n",
    "        price = 2.10;\n",
    "      }\n",
    "  \n",
    "      char firstChar = name.charAt(0); //character\n",
    "      double finalPrice = price * pizzas * 1.08; // adding taxes\n",
    "  \n",
    "      System.out.println(\"Hi \" + firstChar + \"! You have to pay \" + (finalPrice) + \" dollars.\");\n",
    "    }\n",
    "  }\n",
    "  \n",
    "  Main.main(null);"
   ]
  },
  {
   "cell_type": "markdown",
   "metadata": {},
   "source": [
    "### Grade Calculator"
   ]
  },
  {
   "cell_type": "code",
   "execution_count": 1,
   "metadata": {
    "vscode": {
     "languageId": "java"
    }
   },
   "outputs": [
    {
     "name": "stdout",
     "output_type": "stream",
     "text": [
      "Enter final category (separate/tests): separate\n",
      "Current grade: 90.0\n",
      "Percentage of grade that is final: 20.0\n",
      "Desired grade: 95.0\n",
      "You need a 115.00 on the test\n"
     ]
    }
   ],
   "source": [
    "import java.util.Scanner;\n",
    "import java.lang.Math;\n",
    "\n",
    "public class GradeCalculator {\n",
    "\n",
    "    private String category;\n",
    "    private double current;\n",
    "    private double percent;\n",
    "    private double desired;\n",
    "    private double test;\n",
    "\n",
    "    private double percent_test;\n",
    "    private double current_test;\n",
    "    private int points_test;\n",
    "    private int points_final;\n",
    "\n",
    "    public double calculate() {\n",
    "        this.enterCat();\n",
    "\n",
    "        if (category.equals(\"separate\")) {\n",
    "            this.enterVals();\n",
    "            // current * (1-percent) + final * percent = desired\n",
    "            test = (desired - (current * (1-percent/100))) / (percent/100); // Ex. 95 - (90 * (1 - .20)) / .20\n",
    "        }\n",
    "\n",
    "        else if (category.equals(\"tests\")) {\n",
    "            this.enterPoints();\n",
    "            // current_points = current * 100 - percent_test * points_test\n",
    "            // percent_test * (points_test + points_final) + (1-percent_test) * (current_points) = desired\n",
    "            percent_test /= 100;\n",
    "            int current_points = (int)current - (int)(percent_test) * points_test;\n",
    "            test = ((desired - ((1-percent_test)*current_points)/percent_test) - points_test);\n",
    "        }\n",
    "\n",
    "        return test;\n",
    "    }\n",
    "\n",
    "    private void enterCat() {\n",
    "        while (true) {\n",
    "            Scanner dd = new Scanner(System.in);\n",
    "            System.out.print(\"Enter final category (separate/tests): \");\n",
    "            try {\n",
    "                category = dd.nextLine();\n",
    "                System.out.println(category);\n",
    "                break;\n",
    "\n",
    "            } catch (Exception e) { // catch non-numerical input\n",
    "                System.out.println(\"Not a string, \" + e);\n",
    "            }\n",
    "            dd.close();\n",
    "        }\n",
    "    }\n",
    "\n",
    "    private void enterVals() {\n",
    "        while (true) {\n",
    "            Scanner dd2 = new Scanner(System.in);\n",
    "            try {\n",
    "                System.out.print(\"Current grade: \");\n",
    "                current = dd2.nextDouble();\n",
    "                System.out.println(current);\n",
    "\n",
    "                System.out.print(\"Percentage of grade that is final: \");\n",
    "                percent = dd2.nextDouble();\n",
    "                System.out.println(percent);\n",
    "\n",
    "                System.out.print(\"Desired grade: \");\n",
    "                desired = dd2.nextDouble();\n",
    "                System.out.println(desired);\n",
    "\n",
    "                break;\n",
    "            } catch (Exception e) { // catch non-numerical input\n",
    "                System.out.println(current + \"not a double, \" + e);\n",
    "            }\n",
    "            dd2.close();\n",
    "        }\n",
    "    }\n",
    "\n",
    "    private void enterPoints() {\n",
    "        while (true) {\n",
    "            Scanner dd3 = new Scanner(System.in);\n",
    "            try {\n",
    "                System.out.print(\"Current grade: \");\n",
    "                current = dd3.nextDouble();\n",
    "                System.out.println(current);\n",
    "\n",
    "                System.out.print(\"Percentage of grade that is tests: \");\n",
    "                percent = dd3.nextDouble();\n",
    "                System.out.println(percent_test);\n",
    "                \n",
    "                System.out.print(\"Current percent in tests: \");\n",
    "                current_test = dd3.nextDouble();\n",
    "                System.out.println(current_test);\n",
    "                \n",
    "                System.out.print(\"Current amount of points in tests: \");\n",
    "                points_test = dd3.nextInt();\n",
    "                System.out.println(points_test);\n",
    "\n",
    "                System.out.print(\"Amount of points in final: \");\n",
    "                points_final = dd3.nextInt();\n",
    "                System.out.println(points_final);\n",
    "\n",
    "                System.out.print(\"Desired grade: \");\n",
    "                desired = dd3.nextDouble();\n",
    "                System.out.println(desired);\n",
    "\n",
    "                break;\n",
    "            } catch (Exception e) { // catch non-numerical input\n",
    "                System.out.println(current + \"not a double, \" + e);\n",
    "            }\n",
    "            dd3.close();\n",
    "        }\n",
    "    }\n",
    "\n",
    "    public static void main(String[] args) {    // main method\n",
    "        GradeCalculator calc = new GradeCalculator();\n",
    "        System.out.println(\"You need a \" + String.format(\"%.2f\", calc.calculate()) + \" on the test\");\n",
    "    }\n",
    "}\n",
    "\n",
    "GradeCalculator.main(null);"
   ]
  }
 ],
 "metadata": {
  "kernelspec": {
   "display_name": "Java",
   "language": "java",
   "name": "java"
  },
  "language_info": {
   "codemirror_mode": "java",
   "file_extension": ".jshell",
   "mimetype": "text/x-java-source",
   "name": "Java",
   "pygments_lexer": "java",
   "version": "17.0.5+8-Ubuntu-2ubuntu120.04"
  }
 },
 "nbformat": 4,
 "nbformat_minor": 2
}

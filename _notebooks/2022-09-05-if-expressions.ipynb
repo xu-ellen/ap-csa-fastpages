{
 "cells": [
  {
   "cell_type": "markdown",
   "metadata": {},
   "source": [
    "# Boolean Expressions and If Statements\n",
    "> Focus on Ifs, Switch, Expressions and how to build control structures in Java.\n",
    "\n",
    "- toc: true\n",
    "- badges: true\n",
    "- comments: true\n",
    "- categories: [jupyter]"
   ]
  },
  {
   "cell_type": "markdown",
   "metadata": {},
   "source": [
    "## Expression, Assignments, and Condition Statements\n",
    "All of the Units have video series.  We have access to information and content for College Board and Code.org.  Below are two sample videos, it is up to you to determine the detail or brevity that you will need according to your experience.\n",
    "- AP Classroom [Boolean Expressions](https://apclassroom.collegeboard.org/8/home?apd=5kbsvu3q3p&unit=3)\n",
    "- Code.org [If and Conditions](https://www.youtube.com/watch?v=2rQmLwYVYpw), less than 2 minutes"
   ]
  },
  {
   "cell_type": "markdown",
   "metadata": {},
   "source": [
    "### Introduction to Boolean expression\n",
    "A Boolean expression is a logical statement that can be evaluated to True or False.  A Boolean expression may be composed of a combination of the Boolean constants true or false."
   ]
  },
  {
   "cell_type": "code",
   "execution_count": 4,
   "metadata": {},
   "outputs": [
    {
     "name": "stdout",
     "output_type": "stream",
     "text": [
      "True code block\n",
      "True and Not False code block\n",
      "True or False code block\n",
      "Confusing code block\n",
      "De Morgan's law of confusing code block\n"
     ]
    }
   ],
   "source": [
    "// All of the boolean expressions below evaluate to true\n",
    "\n",
    "if (true) {\n",
    "    System.out.println(\"True code block\");\n",
    "}\n",
    "\n",
    "if (true && !false) {\n",
    "    System.out.println(\"True and Not False code block\");\n",
    "}\n",
    "\n",
    "if (true || false) {\n",
    "    System.out.println(\"True or False code block\");\n",
    "}\n",
    "\n",
    "if ((true && !false) && (true || false)) {\n",
    "    System.out.println(\"Confusing code block\");\n",
    "}\n",
    "\n",
    "if (!((false || !true) || (false && true))) {\n",
    "    System.out.println(\"De Morgan's law in my head of confusing code block\");\n",
    "}\n",
    "\n",
    "// Can any of the above expression be simplified?  What would they simplify to?  Are any of these expressions useful?\n"
   ]
  },
  {
   "cell_type": "markdown",
   "metadata": {},
   "source": [
    " ## Hacks\n",
    "Build your own Jupyter Notebook lesson on ifs\n",
    "- Explain if, if-else, and if-elseif-else.\n",
    "- Make a markdown block before you sample code\n",
    "- Comment in code to describe each decision \n",
    "\n",
    "Add to lesson switch-case\n",
    "1. Create and if-elseif-elseif-elsif-else statement, 5 or more conditions. \n",
    "2. Covert the 5 or more decisions to a switch-case-case-case-case-otherwise.\n",
    "3. Make a markdown block before each code example\n",
    "4. Comment/establish a style of comments for your if-elseif and switch-case code blocks\n",
    "\n",
    "Finish lesson with De Morgan's law\n",
    "1. Describe De Morgan's law\n",
    "2. Illustrate De Morgan's law\n",
    "3. Show some code running that shows understanding\n",
    "\n",
    "Resources, it is really time to show you can find resources beyond the Teacher.   Code/Code/Coding is everywhere, find something that helps.\n",
    "1. [Code.org](https://studio.code.org/s/csa4-2022?section_id=4160330) Unitt 4 section 1 to 5 can help with some ideas.\n",
    "2. [AP Classroom unit 3](https://apclassroom.collegeboard.org/8/home?unit=3) has outline for unit\n",
    "3. [CodeAcademy](https://www.codecademy.com/learn/learn-java/modules/learn-java-conditionals-control-flow-u) has some online resources"
   ]
  },
  {
   "cell_type": "markdown",
   "metadata": {},
   "source": [
    "### If, if-else, if-elseif-else\n",
    "\n",
    "If statement runs the following code if the statement is true, and moves on in the control flow if the statement is false. The if-else clause adds on to the if statement by including an \"else\" or if none of the above statements have been satisfied. The if-elseif-else first checks the if, then the else if statements, and finally runs the else."
   ]
  },
  {
   "cell_type": "code",
   "execution_count": null,
   "metadata": {},
   "outputs": [],
   "source": [
    "a = true\n",
    "b = false\n",
    "\n",
    "// if statement\n",
    "\n",
    "if (a) { // if the expression evaluates to true, then the code block will be executed\n",
    "    System.out.println(\"True code block\");\n",
    "}\n",
    "\n",
    "// if-else statement\n",
    "\n",
    "if (a) {    // if the expression evaluates to true, then the code block will be executed\n",
    "    System.out.println(\"False code block\");\n",
    "} else {    // if the expression evaluates to false, then the code block will be executed\n",
    "    System.out.println(\"True code block\");\n",
    "}\n",
    "\n",
    "// if-else-if statement\n",
    "\n",
    "if (a) {    // if the expression evaluates to true, then the code block will be executed\n",
    "    System.out.println(\"False code block\");\n",
    "} else if (b) {  // if the expression evaluates to true, then the code block will be executed\n",
    "    System.out.println(\"True code block\");\n",
    "} else {\n",
    "    System.out.println(\"Unknown code block\");\n",
    "}"
   ]
  },
  {
   "cell_type": "markdown",
   "metadata": {},
   "source": [
    "### If-else 5 conditions"
   ]
  },
  {
   "cell_type": "code",
   "execution_count": 3,
   "metadata": {},
   "outputs": [
    {
     "name": "stdout",
     "output_type": "stream",
     "text": [
      "You got a D\n"
     ]
    }
   ],
   "source": [
    "import java.util.Scanner;\n",
    "\n",
    "public class IfElseGrade {\n",
    "\n",
    "    public static void main(String[] args) {\n",
    "\n",
    "        Scanner scan = new Scanner(System.in);\n",
    "\n",
    "        int score = scan.nextInt();\n",
    "\n",
    "        if (score <= 60) {  // if score is less than or equal to 60, then the code block will be executed\n",
    "            System.out.println(\"You got an F\");\n",
    "        } else if (score <= 70) {   // else if score is less than or equal to 70, then the code block will be executed\n",
    "            System.out.println(\"You got a D\");\n",
    "        } else if (score <= 80) {\n",
    "            System.out.println(\"You got a C\");\n",
    "        } else if (score <= 90) {\n",
    "            System.out.println(\"You got a B\");\n",
    "        } else if (score <= 100) {\n",
    "            System.out.println(\"You got an A\");\n",
    "        } else {\n",
    "            System.out.println(\"Wrong input\");\n",
    "        }\n",
    "    }\n",
    "}\n",
    "\n",
    "IfElseGrade.main(null);"
   ]
  },
  {
   "cell_type": "markdown",
   "metadata": {},
   "source": [
    "### Switch case implementation"
   ]
  },
  {
   "cell_type": "code",
   "execution_count": 11,
   "metadata": {},
   "outputs": [
    {
     "name": "stdout",
     "output_type": "stream",
     "text": [
      "You got a C\n"
     ]
    }
   ],
   "source": [
    "import java.util.Scanner;\n",
    "\n",
    "Scanner scan = new Scanner(System.in);\n",
    "int score = scan.nextInt();\n",
    "\n",
    "// make sure score is rounded up to nearest 10\n",
    "score = (score + 10) / 10 * 10;\n",
    "\n",
    "switch (score) {\n",
    "    case 60:\n",
    "        System.out.println(\"You got an F\");\n",
    "        break;\n",
    "    case 70:\n",
    "        System.out.println(\"You got a D\");\n",
    "        break;\n",
    "    case 80:\n",
    "        System.out.println(\"You got a C\");\n",
    "        break;\n",
    "    case 90:\n",
    "        System.out.println(\"You got a B\");\n",
    "        break;\n",
    "    case 100:\n",
    "        System.out.println(\"You got an A\");\n",
    "        break;\n",
    "    default:\n",
    "        System.out.println(\"Wrong input\");\n",
    "}"
   ]
  },
  {
   "cell_type": "markdown",
   "metadata": {},
   "source": [
    "### De Morgan's Law"
   ]
  },
  {
   "cell_type": "markdown",
   "metadata": {},
   "source": [
    "1. Describe De Morgan's law\n",
    "\n",
    "De Morgan's law is says that a bunch of negated conditions can be combined into a single negated condition.  It is a way to simplify a bunch of conditions into a single condition.\n",
    "\n",
    "2. Illustrate De Morgan's law\n",
    "\n",
    "The code block below shows the original code block and the code block after De Morgan's law has been applied.\n",
    "\n",
    "```java\n",
    "// Original code block\n",
    "if ( !(a == b) && !(a == c) && !(b == c) ) {\n",
    "    System.out.println(\"No two sides are equal\");\n",
    "}\n",
    "\n",
    "// De Morgan's law\n",
    "if (a != b && a != c && b != c) {\n",
    "    System.out.println(\"No two sides are equal\");\n",
    "}\n",
    "```\n",
    "\n",
    "3. Show some code running that shows understanding"
   ]
  },
  {
   "cell_type": "code",
   "execution_count": 25,
   "metadata": {},
   "outputs": [
    {
     "name": "stdout",
     "output_type": "stream",
     "text": [
      "a and b are false\n",
      "a and b are false\n"
     ]
    }
   ],
   "source": [
    "boolean a = false;\n",
    "boolean b = false;\n",
    "\n",
    "if (!a && !b) {  // original method\n",
    "    System.out.println(\"a and b are false\");\n",
    "}\n",
    "\n",
    "if (!(a || b)) { // de Morgan's law\n",
    "    System.out.println(\"a and b are false\");\n",
    "}"
   ]
  }
 ],
 "metadata": {
  "kernelspec": {
   "display_name": "Java",
   "language": "java",
   "name": "java"
  },
  "language_info": {
   "codemirror_mode": "java",
   "file_extension": ".jshell",
   "mimetype": "text/x-java-source",
   "name": "java",
   "pygments_lexer": "java",
   "version": "11.0.16+8-post-Ubuntu-0ubuntu120.04"
  },
  "orig_nbformat": 4,
  "vscode": {
   "interpreter": {
    "hash": "8b82d5009c68ba5675978267e2b13a671f2a7143d61273c5a3813c97e0b2493d"
   }
  }
 },
 "nbformat": 4,
 "nbformat_minor": 2
}

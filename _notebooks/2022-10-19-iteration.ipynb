{
 "cells": [
  {
   "cell_type": "markdown",
   "metadata": {},
   "source": [
    "# Unit 4 Iteration\n",
    "> Notes/HW\n",
    "\n",
    "- toc: true\n",
    "- badges: true\n",
    "- comments: true\n",
    "- categories: [jupyter]"
   ]
  },
  {
   "cell_type": "markdown",
   "metadata": {},
   "source": [
    "## Iteration Notes\n",
    "\n",
    "While loop\n",
    "\n",
    "```java\n",
    "while (condition) {\n",
    "    ...\n",
    "}\n",
    "```\n",
    "\n",
    "For loop\n",
    "\n",
    "```java\n",
    "for (initialization; condition; update) {\n",
    "    ...\n",
    "}\n",
    "```\n",
    "\n",
    "Strings\n",
    "\n",
    "```java\n",
    "String name = \"CodeCodeCode\";\n",
    "\n",
    "for (int i = 0; i < name.length(); i+=2) {\n",
    "    System.out.println(name.substring(i,i+2));\n",
    "}\n",
    "```\n",
    "\n",
    "Nested loops\n",
    "\n",
    "```java\n",
    "for (int i = 0; i < 5; i++) {\n",
    "    for (int j = 0; j < 5; j++) {\n",
    "        System.out.println(i + \" \" + j);\n",
    "    }\n",
    "}\n",
    "```\n",
    "\n",
    "For each loop\n",
    "```java\n",
    "for(dataType item : array) {\n",
    "    ...\n",
    "}\n",
    "```"
   ]
  },
  {
   "cell_type": "markdown",
   "metadata": {},
   "source": [
    "## Hacks"
   ]
  },
  {
   "cell_type": "code",
   "execution_count": 2,
   "metadata": {
    "vscode": {
     "languageId": "java"
    }
   },
   "outputs": [
    {
     "name": "stdout",
     "output_type": "stream",
     "text": [
      "It will take 35 years to reach $30 million in profit.\n"
     ]
    }
   ],
   "source": [
    "public class WhileLoops {\n",
    "    public static void main(String[] args) {\n",
    "        int profit = 5450000;\n",
    "        int year = 0;\n",
    "\n",
    "        while (profit < 30000000) {\n",
    "            profit = profit + (int) (profit * 0.05);\n",
    "            year++;\n",
    "        }\n",
    "\n",
    "        System.out.println(\"It will take \" + year + \" years to reach $30 million in profit.\");\n",
    "    }\n",
    "}\n",
    "\n",
    "WhileLoops.main(null);"
   ]
  },
  {
   "cell_type": "code",
   "execution_count": 3,
   "metadata": {
    "vscode": {
     "languageId": "java"
    }
   },
   "outputs": [
    {
     "name": "stdout",
     "output_type": "stream",
     "text": [
      "10\n",
      "11\n",
      "12\n",
      "13\n",
      "14\n",
      "15\n"
     ]
    }
   ],
   "source": [
    "for (int x=10; x<=15; x++) {\n",
    "    System.out.println(x);\n",
    "}"
   ]
  },
  {
   "cell_type": "code",
   "execution_count": 6,
   "metadata": {
    "vscode": {
     "languageId": "java"
    }
   },
   "outputs": [
    {
     "name": "stdout",
     "output_type": "stream",
     "text": [
      "57\n",
      "48\n",
      "37\n",
      "44\n",
      "54\n",
      "47\n",
      "50\n",
      "52\n",
      "43\n",
      "41\n"
     ]
    }
   ],
   "source": [
    "public class ForLoops {\n",
    "    public static void main(String[] args) {\n",
    "        // create list of temps\n",
    "        int[] temps = { 45, 29, 10, 22, 41, 28, 33, 36, 20, 17 };\n",
    "\n",
    "        // loop through and convert C to F\n",
    "        for (int i=0; i<temps.length; i++) {\n",
    "            temps[i] = (int) ((temps[i] * 0.5556 + 32));\n",
    "        }\n",
    "\n",
    "        // print out the new temps\n",
    "        for (int i=0; i<temps.length; i++) {\n",
    "            System.out.println(temps[i]);\n",
    "        }\n",
    "    }\n",
    "}\n",
    "\n",
    "ForLoops.main(null);"
   ]
  },
  {
   "cell_type": "code",
   "execution_count": 14,
   "metadata": {
    "vscode": {
     "languageId": "java"
    }
   },
   "outputs": [
    {
     "name": "stdout",
     "output_type": "stream",
     "text": [
      "26\n"
     ]
    }
   ],
   "source": [
    "public class ForEachLoops {\n",
    "    public static void main() {\n",
    "        int numbers[] = {2, 5, 7, 12};\n",
    "        int sum = 0;\n",
    "\n",
    "        for (int x : numbers) {\n",
    "            sum += x;\n",
    "        }\n",
    "\n",
    "        System.out.println(sum);\n",
    "    }\n",
    "}\n",
    "\n",
    "ForEachLoops.main();"
   ]
  },
  {
   "cell_type": "code",
   "execution_count": 51,
   "metadata": {
    "vscode": {
     "languageId": "java"
    }
   },
   "outputs": [
    {
     "name": "stdout",
     "output_type": "stream",
     "text": [
      "dicedjobd\n",
      "codedcodedcode\n",
      "supercalifragilisticexpialidocious\n"
     ]
    }
   ],
   "source": [
    "public class CaesarCipher {\n",
    "\n",
    "    public static void main(String[] args) {\n",
    "\n",
    "        String[] letters = {\"a\", \"b\", \"c\", \"d\", \"e\", \"f\", \"g\", \"h\", \"i\", \"j\", \"k\", \"l\", \"m\", \"n\", \"o\", \"p\", \"q\", \"r\", \"s\", \"t\", \"u\", \"v\", \"w\", \"x\", \"y\", \"z\"};\n",
    "        String message1 = \"Kfzb gly!\";\n",
    "        String message2 = \"zlab zlab zlab\";\n",
    "        String message3 = \"prmbozxifcoxdfifpqfzbumfxifalzflrp\";\n",
    "\n",
    "        System.out.println(decrypt(message1, letters, 3));\n",
    "        System.out.println(decrypt(message2, letters, 3));\n",
    "        System.out.println(decrypt(message3, letters, 3));\n",
    "    }\n",
    "\n",
    "    // method to decrypt a message\n",
    "    public static String decrypt(String message, String[] letters, int shift) {\n",
    "        \n",
    "        String decrypted = \"\";\n",
    "\n",
    "        for (int i=0; i<message.length(); i++) {\n",
    "            // find index of letter in letters array\n",
    "            int index = 0;\n",
    "            for (int j=0; j<letters.length; j++) {\n",
    "                if (message.substring(i, i+1).equals(letters[j])) {\n",
    "                    index = j;\n",
    "                }\n",
    "            }\n",
    "\n",
    "            // shift index by shift amount\n",
    "            index = index + shift;\n",
    "\n",
    "            // if index is greater than 25, subtract 26\n",
    "            if (index > 25) {\n",
    "                index = index - 26;\n",
    "            }\n",
    "\n",
    "            // add letter to decrypted message\n",
    "            decrypted = decrypted + letters[index];\n",
    "\n",
    "        }\n",
    "\n",
    "        return decrypted;\n",
    "    }\n",
    "}\n",
    "\n",
    "CaesarCipher.main(null);"
   ]
  }
 ],
 "metadata": {
  "kernelspec": {
   "display_name": "Java",
   "language": "java",
   "name": "java"
  },
  "language_info": {
   "codemirror_mode": "java",
   "file_extension": ".jshell",
   "mimetype": "text/x-java-source",
   "name": "Java",
   "pygments_lexer": "java",
   "version": "11.0.16+8-post-Ubuntu-0ubuntu120.04"
  }
 },
 "nbformat": 4,
 "nbformat_minor": 2
}

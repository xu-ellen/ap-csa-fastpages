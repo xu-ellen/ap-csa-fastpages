{
 "cells": [
  {
   "cell_type": "markdown",
   "metadata": {},
   "source": [
    "# Final Reflection\n",
    "> Units and HW\n",
    "- badges: true\n",
    "- comments: true\n",
    "- categories: [jupyter, mc]\n"
   ]
  },
  {
   "cell_type": "markdown",
   "metadata": {},
   "source": [
    "Unit | Score | Link\n",
    "-- | -- | --\n",
    "1 | 0.9 | https://docs.google.com/spreadsheets/d/1LG6lYp17hDaXROLX8L0f7-3NXGY8P1KYTAbHTg4vuVg/edit#gid=0\n",
    "2 | 0.95 | https://kar722.github.io/fastpages/markdown/2022/11/29/Grading.html\n",
    "3 | 0.9 | https://riya-patil.github.io/Riya-Patil-APCSA/2022/12/01/Unit3-Grading-(3).html\n",
    "4 | 0.8 | https://docs.google.com/spreadsheets/d/1ZdxY0y2xNr3ucfgGALu0natnx74QOfdhiWjEnxHkx6c/edit#gid=0\n",
    "5 | 0.9 | https://docs.google.com/spreadsheets/d/1aFZm759u2tpGNjJ7zaB753t2nwZ4bEZ88p9NMF37k2c/edit#gid=0\n",
    "TOTAL | 4.45"
   ]
  },
  {
   "cell_type": "markdown",
   "metadata": {},
   "source": [
    "# Unit 1: Primitives\n",
    "\n",
    "[See Jupyter Notebook here](https://xu-ellen.github.io/ap-csa-fastpages/jupyter/cb/2022/10/17/primitives.html)\n",
    "\n",
    "Takeaways:\n",
    "- Boolean, char, int, float, double are all primitive data types\n",
    "- String, Array, etc. are non-primitive data types\n",
    "- Learned to declare a variable that can be accessible and/or changed\n",
    "- Learned how to store data as variables\n",
    "\n",
    "# Unit 2: Objects\n",
    "\n",
    "[See Jupyter Notebook here](https://xu-ellen.github.io/ap-csa-fastpages/jupyter/cb/2022/10/17/using-objects.html)\n",
    "\n",
    "Takeaways: \n",
    "- Learned the difference between classes vs. objects\n",
    "- Objects are defined within a class\n",
    "- Methods: certain set of code that runs a specific task\n",
    "- Class attributes are inherited by objects\n",
    "- Learned about myPainter in Code.org\n",
    "\n",
    "# Unit 3: Boolean\n",
    "\n",
    "[See Jupyter Notebook here](https://xu-ellen.github.io/ap-csa-fastpages/jupyter/cb/2022/10/18/booleans.html)\n",
    "\n",
    "Takeaways:\n",
    "- Whether boolean expression is true or false dictates whether the code will run\n",
    "- If-else statements sets up alternate code if the first expression turns false\n",
    "- Else-if statements allow for more conditions to be defined\n",
    "- De Morgan's law: logical operators && (and) ll(or) and !(not)\n",
    "- Comparing objects through == \n",
    "\n",
    "# Unit 4: Iteration\n",
    "\n",
    "[See Jupyter Notebook here](https://xu-ellen.github.io/ap-csa-fastpages/jupyter/cb/2022/10/19/iteration.html)\n",
    "\n",
    "Takeaways:\n",
    "- While/for loops: repeats lines of code until a specific condition comes out false; can iterate over multiple elements\n",
    "- For loops are most tested\n",
    "- Strings: array chairs\n",
    "- Nested iteration: loop within a loop\n",
    "# Unit 5: Writing Classes\n",
    "\n",
    "[See Jupyter Notebook here](https://xu-ellen.github.io/ap-csa-fastpages/jupyter/cb/2022/10/20/classes.html)\n",
    "\n",
    "Takeaways:\n",
    "- Classes are blueprints to create objects and define attributes\n",
    "- Instances: attributes, constructors, methods, objects\n",
    "- Public classes: no restricted access - constructors \n",
    "- Private classes: restricted access - instance variables\n",
    "\n",
    "# Unit 6: Arrays \n",
    "\n",
    "[See Jupyter Notebook here](https://xu-ellen.github.io/ap-csa-fastpages/jupyter/2022/10/25/array.html)\n",
    "\n",
    "Takeaways:\n",
    "- Arrays: one type of data storage\n",
    "- Reference types\n",
    "- Need import java.util Arrays \n",
    "- Initialize arrays using constructors\n",
    "- Access elements through arrayName[index]\n",
    "\n",
    "# Reflection\n",
    "\n",
    "This tri, I Learned about Docker, deployment through AWS, and Java classes. Most interestingly, I used Java as a backend with POJO and dynamic frontend to make more interactive components. Most of my prior experience had been with imperative programming so it was interesting to use OOP to solve problems. There were many similarities between Java and Python classes, but it is more common to use constructors in Java which instantiates the object with some default attributes, and concepts such as overloading and polymorphism."
   ]
  }
 ],
 "metadata": {
  "kernelspec": {
   "display_name": "Java",
   "language": "java",
   "name": "java"
  },
  "language_info": {
   "codemirror_mode": "java",
   "file_extension": ".jshell",
   "mimetype": "text/x-java-source",
   "name": "java",
   "pygments_lexer": "java",
   "version": "11.0.16+8-post-Ubuntu-0ubuntu120.04"
  },
  "orig_nbformat": 4
 },
 "nbformat": 4,
 "nbformat_minor": 2
}

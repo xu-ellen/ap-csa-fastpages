{
 "cells": [
  {
   "cell_type": "markdown",
   "metadata": {},
   "source": [
    "# POJO\n",
    "> Frontend/backend for PBL\n",
    "\n",
    "- toc: true\n",
    "- badges: true\n",
    "- comments: true\n",
    "- categories: [jupyter]"
   ]
  },
  {
   "cell_type": "markdown",
   "metadata": {},
   "source": [
    "### Code\n",
    "\n",
    "```Java\n",
    "@RestController // annotation to simplify the creation of RESTful web services\n",
    "@RequestMapping(\"/api/physics\")  // all requests in file begin with this URI\n",
    "public class PhysicsApiController {\n",
    "\n",
    "    // Autowired enables Control to connect URI request and POJO Object to easily for Database CRUD operations\n",
    "    @Autowired\n",
    "    private PhysicsJpaRepository repository;\n",
    "\n",
    "    /* GET List of Physics\n",
    "     * @GetMapping annotation is used for mapping HTTP GET requests onto specific handler methods.\n",
    "     */\n",
    "    @GetMapping(\"/\")\n",
    "    public ResponseEntity<List<Physics>> getPhysics() {\n",
    "        // ResponseEntity returns List of Physics provide by JPA findAll()\n",
    "        return new ResponseEntity<>( repository.findAll(), HttpStatus.OK);\n",
    "    }\n",
    "\n",
    "    /* Update Like\n",
    "     * @PutMapping annotation is used for mapping HTTP PUT requests onto specific handler methods.\n",
    "     * @PathVariable annotation extracts the templated part {id}, from the URI\n",
    "     */\n",
    "    @PutMapping(\"/like/{id}\")\n",
    "    public ResponseEntity<Physics> setLike(@PathVariable long id) {\n",
    "        /* \n",
    "        * Optional (below) is a container object which helps determine if a result is present. \n",
    "        * If a value is present, isPresent() will return true\n",
    "        * get() will return the value.\n",
    "        */\n",
    "        Optional<Physics> optional = repository.findById(id);\n",
    "        if (optional.isPresent()) {  // Good ID\n",
    "            Physics equation = optional.get();  // value from findByID\n",
    "            equation.setLike(equation.getLike()+1); // increment value\n",
    "            repository.save(equation);  // save entity\n",
    "            return new ResponseEntity<>(equation, HttpStatus.OK);  // OK HTTP response: status code, headers, and body\n",
    "        }\n",
    "        // Bad ID\n",
    "        return new ResponseEntity<>(HttpStatus.BAD_REQUEST);  // Failed HTTP response: status code, headers, and body\n",
    "    }\n",
    "\n",
    "    /* Update Dislike\n",
    "     */\n",
    "    @PutMapping(\"/dislike/{id}\")\n",
    "    public ResponseEntity<Physics> setDislike(@PathVariable long id) {\n",
    "        Optional<Physics> optional = repository.findById(id);\n",
    "        if (optional.isPresent()) {  // Good ID\n",
    "            Physics equation = optional.get();\n",
    "            equation.setDislike(equation.getDislike()+1);\n",
    "            repository.save(equation);\n",
    "            return new ResponseEntity<>(equation, HttpStatus.OK);\n",
    "        }\n",
    "        // Bad ID\n",
    "        return new ResponseEntity<>(HttpStatus.BAD_REQUEST);\n",
    "    }\n",
    "```"
   ]
  },
  {
   "cell_type": "markdown",
   "metadata": {},
   "source": [
    "### Testing endpoint on Postman"
   ]
  },
  {
   "cell_type": "markdown",
   "metadata": {},
   "source": [
    "![postman](https://user-images.githubusercontent.com/56745453/195410497-4b8810e2-958c-4ef7-9efe-7e106982d424.png)"
   ]
  },
  {
   "cell_type": "markdown",
   "metadata": {},
   "source": [
    "### Frontend"
   ]
  },
  {
   "cell_type": "markdown",
   "metadata": {},
   "source": [
    "![image](https://user-images.githubusercontent.com/56745453/195412406-a2f15c96-0eea-4ccc-9e9a-195ab053f6fb.png)"
   ]
  }
 ],
 "metadata": {
  "kernelspec": {
   "display_name": "JavaScript (Node.js)",
   "language": "javascript",
   "name": "javascript"
  },
  "language_info": {
   "file_extension": ".js",
   "mimetype": "application/javascript",
   "name": "javascript",
   "version": "10.13.0"
  }
 },
 "nbformat": 4,
 "nbformat_minor": 2
}

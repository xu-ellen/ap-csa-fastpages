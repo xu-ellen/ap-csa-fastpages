{
 "cells": [
  {
   "cell_type": "markdown",
   "metadata": {},
   "source": [
    "# Unit 3 Booleans\n",
    "> Notes/HW\n",
    "\n",
    "- toc: true\n",
    "- badges: true\n",
    "- comments: true\n",
    "- categories: [jupyter, frq, cb]"
   ]
  },
  {
   "cell_type": "markdown",
   "metadata": {},
   "source": [
    "## Booleans Notes\n",
    "\n",
    "- Boolean tells whether something is T/F\n",
    "- Logical operators: ! (not), && (and), || (or)\n",
    "   - Short-circuiting: if the first part of an && is false, the second part is not evaluated\n",
    "- De Morgan's Laws: !(a && b) = !a || !b, !(a || b) = !a && !b\n",
    "- Aliases are when they both point to the same object\n",
    "   - Compare with ==, which sees if it is an alias\n",
    "   - .equals compares the values"
   ]
  },
  {
   "cell_type": "code",
   "execution_count": 1,
   "metadata": {
    "vscode": {
     "languageId": "java"
    }
   },
   "outputs": [
    {
     "name": "stdout",
     "output_type": "stream",
     "text": [
      "true\n",
      "true\n"
     ]
    }
   ],
   "source": [
    "// de morgan's law\n",
    "\n",
    "boolean a = true;\n",
    "boolean b = false;\n",
    "\n",
    "boolean c = !(a && b);\n",
    "boolean d = !a || !b;\n",
    "\n",
    "System.out.println(c);\n",
    "System.out.println(d);"
   ]
  },
  {
   "cell_type": "code",
   "execution_count": 2,
   "metadata": {
    "vscode": {
     "languageId": "java"
    }
   },
   "outputs": [
    {
     "name": "stdout",
     "output_type": "stream",
     "text": [
      "true\n",
      "true\n"
     ]
    }
   ],
   "source": [
    "// comparing objects\n",
    "\n",
    "String s1 = \"hello\";\n",
    "String s2 = \"hello\";\n",
    "\n",
    "System.out.println(s1 == s2);\n",
    "System.out.println(s1.equals(s2));"
   ]
  },
  {
   "cell_type": "markdown",
   "metadata": {},
   "source": [
    "### 2019 FRQ 1"
   ]
  },
  {
   "cell_type": "markdown",
   "metadata": {},
   "source": [
    "# Part A"
   ]
  },
  {
   "cell_type": "code",
   "execution_count": null,
   "metadata": {
    "vscode": {
     "languageId": "java"
    }
   },
   "outputs": [],
   "source": [
    "// 1a\n",
    "\n",
    "/** Returns the number of leap years between year1 and year2, inclusive.\n",
    " * Precondition: 0 <= year1 <= year2\n",
    " */ \n",
    "\n",
    "public static int numberOfLeapYears(int year1, int year2) {\n",
    "    \n",
    "    int count = 0;\n",
    "    \n",
    "    for (int i=year1; i<year2; i++) {\n",
    "        if isLeapYear(i) == true {\n",
    "            count++;\n",
    "        }\n",
    "    }\n",
    "\n",
    "    return count;\n",
    "}"
   ]
  },
  {
   "cell_type": "markdown",
   "metadata": {},
   "source": [
    "# Part B"
   ]
  },
  {
   "cell_type": "code",
   "execution_count": null,
   "metadata": {
    "vscode": {
     "languageId": "java"
    }
   },
   "outputs": [],
   "source": [
    "// 1b\n",
    "\n",
    "/** Returns the value representing the day of the week for the given date\n",
    " * (month, day, year), where 0 denotes Sunday, 1 denotes Monday, ...,\n",
    " * and 6 denotes Saturday.\n",
    " * Precondition: The date represented by month, day, year is a valid date.\n",
    " */\n",
    "\n",
    "public static int dayOfWeek(int month, int day, int year) {\n",
    "    first = firstDayofYear(year);   // eg. 3 for Wed\n",
    "    days = dayOfYear(month, day, year); // eg. day 59\n",
    "    return (first + days - 1) % 7;  // eg. 3 + 59 = 62 % 7 = 4 Thurs\n",
    "}"
   ]
  }
 ],
 "metadata": {
  "kernelspec": {
   "display_name": "Java",
   "language": "java",
   "name": "java"
  },
  "language_info": {
   "codemirror_mode": "java",
   "file_extension": ".jshell",
   "mimetype": "text/x-java-source",
   "name": "Java",
   "pygments_lexer": "java",
   "version": "17.0.5+8-Ubuntu-2ubuntu120.04"
  }
 },
 "nbformat": 4,
 "nbformat_minor": 2
}

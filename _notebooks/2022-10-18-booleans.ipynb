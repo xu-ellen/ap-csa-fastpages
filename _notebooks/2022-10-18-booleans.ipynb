{
 "cells": [
  {
   "cell_type": "markdown",
   "metadata": {},
   "source": [
    "# Unit 3 Booleans\n",
    "> Notes/HW\n",
    "\n",
    "- toc: true\n",
    "- badges: true\n",
    "- comments: true\n",
    "- categories: [jupyter]"
   ]
  },
  {
   "cell_type": "markdown",
   "metadata": {},
   "source": [
    "## Booleans Notes\n",
    "\n",
    "- Boolean tells whether something is T/F\n",
    "- Logical operators: ! (not), && (and), || (or)\n",
    "   - Short-circuiting: if the first part of an && is false, the second part is not evaluated\n",
    "- De Morgan's Laws: !(a && b) = !a || !b, !(a || b) = !a && !b\n",
    "- Aliases are when they both point to the same object\n",
    "   - Compare with ==, which sees if it is an alias\n",
    "   - .equals compares the values"
   ]
  },
  {
   "cell_type": "markdown",
   "metadata": {},
   "source": [
    "### 2019 FRQ 1"
   ]
  },
  {
   "cell_type": "markdown",
   "metadata": {},
   "source": [
    "# Part A"
   ]
  },
  {
   "cell_type": "code",
   "execution_count": null,
   "metadata": {},
   "outputs": [],
   "source": [
    "// 1a\n",
    "\n",
    "/** Returns the number of leap years between year1 and year2, inclusive.\n",
    " * Precondition: 0 <= year1 <= year2\n",
    " */ \n",
    "\n",
    "public static int numberOfLeapYears(int year1, int year2) {\n",
    "    \n",
    "    int count = 0;\n",
    "    \n",
    "    for (int i=year1; i<year2; i++) {\n",
    "        if isLeapYear(i) == true {\n",
    "            count++;\n",
    "        }\n",
    "    }\n",
    "\n",
    "    return count;\n",
    "}"
   ]
  },
  {
   "cell_type": "markdown",
   "metadata": {},
   "source": [
    "# Part B"
   ]
  },
  {
   "cell_type": "code",
   "execution_count": null,
   "metadata": {},
   "outputs": [],
   "source": [
    "// 1b\n",
    "\n",
    "/** Returns the value representing the day of the week for the given date\n",
    " * (month, day, year), where 0 denotes Sunday, 1 denotes Monday, ...,\n",
    " * and 6 denotes Saturday.\n",
    " * Precondition: The date represented by month, day, year is a valid date.\n",
    " */\n",
    "\n",
    "public static int dayOfWeek(int month, int day, int year) {\n",
    "    first = firstDayofYear(year);   // eg. 3 for Wed\n",
    "    days = dayOfYear(month, day, year); // eg. day 59\n",
    "    return (first + days - 1) % 7;  // eg. 3 + 59 = 62 % 7 = 4 Thurs\n",
    "}"
   ]
  }
 ],
 "metadata": {
  "kernelspec": {
   "display_name": "Java",
   "language": "java",
   "name": "java"
  },
  "language_info": {
   "codemirror_mode": "java",
   "file_extension": ".jshell",
   "mimetype": "text/x-java-source",
   "name": "java",
   "pygments_lexer": "java",
   "version": "11.0.16+8-post-Ubuntu-0ubuntu120.04"
  }
 },
 "nbformat": 4,
 "nbformat_minor": 2
}

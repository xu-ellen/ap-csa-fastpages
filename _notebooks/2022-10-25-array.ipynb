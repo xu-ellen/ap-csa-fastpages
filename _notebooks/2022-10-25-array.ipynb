{
 "cells": [
  {
   "cell_type": "markdown",
   "metadata": {},
   "source": [
    "# Unit 6 Array\n",
    "> Array lesson\n",
    "- toc: false \n",
    "- badges: true\n",
    "- comments: true\n",
    "- categories: [jupyter]\n"
   ]
  },
  {
   "cell_type": "markdown",
   "metadata": {},
   "source": [
    "### Arrays Overview\n",
    "\n",
    "- Arrays are 10-15% of the AP CSA Exam\n",
    "- The four main topics that College Board wants you to know\n",
    "    - Array creation and access\n",
    "    - Traversing arrays\n",
    "    - Enhanced for loops for arrays\n",
    "    - Developing algorithms using arrays\n",
    "- The overall purpose of arrays is to store multiple values in a single variable, instead of declaring separate variables for each value."
   ]
  },
  {
   "cell_type": "markdown",
   "metadata": {},
   "source": [
    "### 6.1 Array Creation and Access\n",
    "\n",
    "- Arrays are used to store one data type\n",
    "- Unlike Arraylists, arrays have a fixed size and cannot be changed\n",
    "- Arrays can be denoted using braces {}\n",
    "Below is an example of a simple array storing our scrum team names\n",
    "```\n",
    "[Meena, Shraddha, Madhumita, Pranavi]\n",
    "```\n",
    "- To use an array you have to use the command\n",
    "```\n",
    "import java.util.Arrays;\n",
    "```\n",
    "\n",
    "#### Making Arrays\n",
    "There are two ways to make arrays\n",
    "- using constructors\n",
    "- using pre-intiliazed arrays"
   ]
  },
  {
   "cell_type": "code",
   "execution_count": null,
   "metadata": {
    "vscode": {
     "languageId": "java"
    }
   },
   "outputs": [],
   "source": [
    "dataType[] arrayName = new dataType[numberOfItems]; //Constructor\n",
    "int[] arraySample = {1,3,5,7,9}; //pre-initialized arrays"
   ]
  },
  {
   "cell_type": "markdown",
   "metadata": {},
   "source": [
    "#### Accessing Elements in Arrays\n",
    "- You can access the elements in an array using different commands"
   ]
  },
  {
   "cell_type": "code",
   "execution_count": null,
   "metadata": {
    "vscode": {
     "languageId": "java"
    }
   },
   "outputs": [],
   "source": [
    "arrayName.Length //determine the size\n",
    "arrayName.length - 1 //to access the last item in the array"
   ]
  },
  {
   "cell_type": "markdown",
   "metadata": {},
   "source": [
    "### Hack 1\n",
    "\n",
    "How do we access the even numbers in arrayOne from above?"
   ]
  },
  {
   "cell_type": "code",
   "execution_count": 1,
   "metadata": {
    "vscode": {
     "languageId": "java"
    }
   },
   "outputs": [],
   "source": [
    "int[] arrayOne = {1, 3, 5, 7, 9};"
   ]
  },
  {
   "cell_type": "code",
   "execution_count": 4,
   "metadata": {
    "vscode": {
     "languageId": "java"
    }
   },
   "outputs": [],
   "source": [
    "for (int num : arrayOne) {\n",
    "    if (num % 2 == 0) {\n",
    "        System.out.println(num);\n",
    "    } \n",
    "}"
   ]
  },
  {
   "cell_type": "markdown",
   "metadata": {},
   "source": [
    "### Hack 2\n",
    "\n",
    "Which of the following is FALSE about arrays\n",
    "- A. A java array is an object\n",
    "- B. Length of array can be changed after creation of array\n",
    "- C. Numerical data types of arrays are initialized to 0 to start"
   ]
  },
  {
   "cell_type": "markdown",
   "metadata": {},
   "source": [
    "B."
   ]
  },
  {
   "cell_type": "markdown",
   "metadata": {},
   "source": [
    "### 6.2 Traversing Arrays\n",
    "\n",
    "- **Traversing** is accessing every value in the array\n",
    "- Can be done using a loop like a `for` loop or `while` loop\n",
    "- Below is an example - using a for loop, we can iterate through each fruit in the array of Strings and print it out"
   ]
  },
  {
   "cell_type": "code",
   "execution_count": 7,
   "metadata": {
    "vscode": {
     "languageId": "java"
    }
   },
   "outputs": [
    {
     "name": "stdout",
     "output_type": "stream",
     "text": [
      "Fruit number 0 is Apple\n",
      "Fruit number 1 is Strawberry\n",
      "Fruit number 2 is Watermelon\n",
      "Fruit number 3 is Blueberry\n"
     ]
    }
   ],
   "source": [
    "// Here is the array we will be working with\n",
    "String[] myFruits = new String[] {\"Apple\", \"Strawberry\", \"Watermelon\", \"Blueberry\"};    // why not just String[] myFruits = {\"Apple\", \"Strawberry\", \"Watermelon\", \"Blueberry\"}; ?\n",
    "\n",
    "for (int i = 0; i < myFruits.length; i++) {\n",
    "    System.out.println(\"Fruit number \" + i + \" is \" + myFruits[i]);\n",
    "}"
   ]
  },
  {
   "cell_type": "markdown",
   "metadata": {},
   "source": [
    "- Can also loop through an array in reverse"
   ]
  },
  {
   "cell_type": "code",
   "execution_count": 9,
   "metadata": {
    "vscode": {
     "languageId": "java"
    }
   },
   "outputs": [
    {
     "name": "stdout",
     "output_type": "stream",
     "text": [
      "Fruit number 3 is Blueberry\n",
      "Fruit number 2 is Watermelon\n",
      "Fruit number 1 is Strawberry\n",
      "Fruit number 0 is Apple\n"
     ]
    }
   ],
   "source": [
    "for (int i = myFruits.length - 1; i >= 0 ; i--) {\n",
    "    System.out.println(\"Fruit number \" + i + \" is \" + myFruits[i]);\n",
    "}"
   ]
  },
  {
   "cell_type": "markdown",
   "metadata": {},
   "source": [
    "- If we have a list of numbers, we could change each value in the array by a certain amount "
   ]
  },
  {
   "cell_type": "code",
   "execution_count": 10,
   "metadata": {
    "vscode": {
     "languageId": "java"
    }
   },
   "outputs": [
    {
     "name": "stdout",
     "output_type": "stream",
     "text": [
      "New element 0 is 11\n",
      "New element 1 is 13\n",
      "New element 2 is 15\n",
      "New element 3 is 17\n",
      "New element 4 is 19\n"
     ]
    }
   ],
   "source": [
    "// Here is the array we will be working with\n",
    "int[] myNumbers = new int[] {1, 3, 5, 7, 9};\n",
    "\n",
    "for (int i = 0; i < myNumbers.length; i++) {\n",
    "    // add 10 to each element in the array\n",
    "    myNumbers[i] += 10;\n",
    "    System.out.println(\"New element \" + i + \" is \" + myNumbers[i]);\n",
    "}"
   ]
  },
  {
   "cell_type": "markdown",
   "metadata": {},
   "source": [
    "- We can also traverse an array using a while loop"
   ]
  },
  {
   "cell_type": "code",
   "execution_count": 11,
   "metadata": {
    "vscode": {
     "languageId": "java"
    }
   },
   "outputs": [
    {
     "name": "stdout",
     "output_type": "stream",
     "text": [
      "Fruit number 0 is Apple\n",
      "Fruit number 1 is Strawberry\n",
      "Fruit number 2 is Watermelon\n",
      "Fruit number 3 is Blueberry\n"
     ]
    }
   ],
   "source": [
    "// Here is the array we will be working with\n",
    "String[] myFruits = new String[] {\"Apple\", \"Strawberry\", \"Watermelon\", \"Blueberry\"};\n",
    "\n",
    "int i = 0; \n",
    "while (i < myFruits.length) {\n",
    "    System.out.println(\"Fruit number \" + i + \" is \" + myFruits[i]);\n",
    "    i++;\n",
    "}"
   ]
  },
  {
   "cell_type": "markdown",
   "metadata": {},
   "source": [
    "#### Bound Errors\n",
    "- `ArrayIndexOutOfBoundsException` thrown, can happen when using loops to access array elements\n",
    "- In the example below instead of the condition being while the index is less than the length of the array, the condition is less than or equal too\n",
    "- This mean the loop will try to run when i = 4 (since the length of the list is 4). However since array index starts from 0, the last item in the array will have an index of 3. So, index of 4 will be out of bounds, resulting in the error."
   ]
  },
  {
   "cell_type": "code",
   "execution_count": 12,
   "metadata": {
    "vscode": {
     "languageId": "java"
    }
   },
   "outputs": [
    {
     "name": "stdout",
     "output_type": "stream",
     "text": [
      "Fruit number 0 is Apple\n",
      "Fruit number 1 is Strawberry\n",
      "Fruit number 2 is Watermelon\n",
      "Fruit number 3 is Blueberry\n"
     ]
    },
    {
     "ename": "EvalException",
     "evalue": "Index 4 out of bounds for length 4",
     "output_type": "error",
     "traceback": [
      "\u001b[1m\u001b[31m---------------------------------------------------------------------------\u001b[0m",
      "\u001b[1m\u001b[31mjava.lang.ArrayIndexOutOfBoundsException: Index 4 out of bounds for length 4\u001b[0m",
      "\u001b[1m\u001b[31m\tat .(#26:4)\u001b[0m"
     ]
    }
   ],
   "source": [
    "int i = 0; \n",
    "\n",
    "while (i <= myFruits.length) {\n",
    "    System.out.println(\"Fruit number \" + i + \" is \" + myFruits[i]);\n",
    "    i++;\n",
    "}"
   ]
  },
  {
   "cell_type": "markdown",
   "metadata": {},
   "source": [
    "### Hack 3\n",
    "\n",
    "- Create a function that takes in a list of integers and returns the list with the integers in ascending order. Print every element in this list \n",
    "- Example\n",
    "    - `int[] myNumbers = new int[] {5, 3, 4, 1, 2};`\n",
    "    - `arraySorter(myNumbers);`\n",
    "    - Expected Output\n",
    "        - 1\n",
    "        - 2\n",
    "        - 3\n",
    "        - 4\n",
    "        - 5"
   ]
  },
  {
   "cell_type": "code",
   "execution_count": 21,
   "metadata": {
    "vscode": {
     "languageId": "java"
    }
   },
   "outputs": [
    {
     "name": "stdout",
     "output_type": "stream",
     "text": [
      "1\n",
      "2\n",
      "3\n",
      "4\n",
      "5\n"
     ]
    }
   ],
   "source": [
    "import java.util.Arrays;\n",
    "\n",
    "public class arraySorter {\n",
    "    public static void main(int[] a) {\n",
    "        Arrays.sort(a);\n",
    "        for (int i : a) {\n",
    "            System.out.println(i);\n",
    "        }\n",
    "    }\n",
    "}\n",
    "\n",
    "int[] myNumbers = new int[] {5, 3, 4, 1, 2};\n",
    "arraySorter.main(myNumbers);"
   ]
  },
  {
   "cell_type": "markdown",
   "metadata": {},
   "source": [
    "### Hack 4\n",
    "\n",
    "- Given the following code segment, which of the following will cause an infinite loop? Assume that temp is an int variable initialized to be greater than zero and that a is an array of integers."
   ]
  },
  {
   "cell_type": "code",
   "execution_count": null,
   "metadata": {
    "vscode": {
     "languageId": "java"
    }
   },
   "outputs": [],
   "source": [
    "for ( int k = 0; k < a.length; k++ )\n",
    "{\n",
    "   while ( a[ k ] < temp )\n",
    "   {\n",
    "      a[ k ] *= 2;\n",
    "   }\n",
    "}"
   ]
  },
  {
   "cell_type": "markdown",
   "metadata": {},
   "source": [
    "- A. The values don't matter this will always cause an infinite loop.\n",
    "- B. Whenever a includes a value that is less than or equal to zero.\n",
    "- C. Whenever a has values larger then temp.\n",
    "- D. When all values in a are larger than temp.\n",
    "- E. Whenever a includes a value equal to temp."
   ]
  },
  {
   "cell_type": "markdown",
   "metadata": {},
   "source": [
    "B; if (a[k] < temp)"
   ]
  },
  {
   "cell_type": "markdown",
   "metadata": {},
   "source": [
    "### 6.3 Enhanced for loop for Arrays\n",
    "\n",
    "This topic was pretty short, but essentially what you need to know is about the enhanced for loop. The enhanced for loop can be used to traverse through most data structures (i.g. arrays). However, it can only traverse in a forward direction. Usually the structure is like so \n",
    "```\n",
    "for (dataType i: arrayName) {\n",
    "  do something with i\n",
    "}\n",
    "```\n",
    "Essentially, this code mentions how every element in the array (i) has to have something done to it. It's important to note that although there is access to the element i, but it isn't possible to change the value/set new values to element i.\n",
    "\n",
    "We can use mutator methods on objects on the array to set the value of their instance variables. This is because i is a copy of the object reference, which means that i refers to the same object as the array element, so calling methods on i is the same as calling methods on the individual array elements themselves. For example"
   ]
  },
  {
   "cell_type": "code",
   "execution_count": null,
   "metadata": {
    "vscode": {
     "languageId": "java"
    }
   },
   "outputs": [],
   "source": [
    "public class Student {\n",
    "    private String name;\n",
    "    \n",
    "    /** Sets the name of the Student\n",
    "    */\n",
    "    public void setName(String name) {\n",
    "      this.name = name;\n",
    "    }\n",
    "  \n",
    "    /** Other instance variables, methods, and constructors not shown\n",
    "    */\n",
    "  }\n",
    "  // IN ANOTHER CLASS\n",
    "  /** Resets all students' names\n",
    "  */\n",
    "  public static void doubleArray(Student[] array, String defaultName) {\n",
    "    for (Student student: array) {\n",
    "      student.setName(defaultName); // Sets each student's name to a default name\n",
    "    }\n",
    "  }"
   ]
  },
  {
   "cell_type": "markdown",
   "metadata": {},
   "source": [
    "### Hack 5\n",
    "\n",
    "In this example, each loop includes an int array and a String array. Try adding another high score and another name to the arrays and se if you can get it to run."
   ]
  },
  {
   "cell_type": "code",
   "execution_count": null,
   "metadata": {
    "vscode": {
     "languageId": "java"
    }
   },
   "outputs": [],
   "source": [
    "public class ForEachDemo\n",
    "{\n",
    "   public static void main(String[] args)\n",
    "   {\n",
    "     int[] highScores = { 10, 9, 8, 8};\n",
    "     String[] names = {\"Jamal\", \"Emily\", \"Destiny\", \"Mateo\"};\n",
    "     // for each loop with an int array\n",
    "     for (int value : highScores)\n",
    "     {\n",
    "         System.out.println( value );\n",
    "     }\n",
    "     // for each loop with a String array\n",
    "     for (String value : names)\n",
    "     {\n",
    "         System.out.println(value); // this time it's a name!\n",
    "     }\n",
    "   }\n",
    " }"
   ]
  },
  {
   "cell_type": "markdown",
   "metadata": {},
   "source": [
    "### Hack 6\n",
    "\n",
    "What code would you add to the following to output the length of each String that's returned from the below method? Choose A, B, C, or D."
   ]
  },
  {
   "cell_type": "markdown",
   "metadata": {},
   "source": [
    "![hack4](../images/hack4.PNG)"
   ]
  },
  {
   "cell_type": "markdown",
   "metadata": {},
   "source": [
    "D"
   ]
  },
  {
   "cell_type": "markdown",
   "metadata": {},
   "source": [
    "### 6.4 Developing Algorithms using Arrays\n",
    "\n",
    "Here are some algorithms that arrays can be used for (from college board standards),\n",
    "- Minimum and Maximum of a list of elements\n",
    "- Compute the sum, average, or mode of multiple elements\n",
    "- Determine if at least one element has a property\n",
    "- Access consecutive pairs of elements\n",
    "- Determine duplicates\n",
    "\n",
    "What to use when problem solving with arrays\n",
    "``.length`` can be used to find the length of an array\n",
    "- The value at a specific index can be found with ``array[i]``, where ``i`` is the index\n",
    "- An element at index ``i`` can be replaced using ``array[i] = new element``\n",
    "- You can iterate over an array with a for loop\n",
    "```\n",
    "for(type element: array) {\n",
    "    \\\\\\\\ code here\n",
    "```\n",
    "\n",
    "#### Computing Sums with Arrays\n",
    "\n",
    "See the code below for a sample algorithm of how to compute the sum of elements in an array. This could be applied to finding the mean, standard deviation, or any other algorithm that requires summation.\n"
   ]
  },
  {
   "cell_type": "code",
   "execution_count": 23,
   "metadata": {
    "vscode": {
     "languageId": "java"
    }
   },
   "outputs": [
    {
     "name": "stdout",
     "output_type": "stream",
     "text": [
      "84\n"
     ]
    }
   ],
   "source": [
    "int[] array = {5, 1, 78}; // intialize\n",
    "\n",
    "int sum  = 0; // variable to keep track of sum\n",
    "\n",
    "for (int number : array) { // iterates over each loop in the array\n",
    "    sum += number; // the number is added to the sum\n",
    "}\n",
    "\n",
    "System.out.println(sum); //expected sum is 84, so 84 should be printed"
   ]
  },
  {
   "cell_type": "markdown",
   "metadata": {},
   "source": [
    "#### Find the max"
   ]
  },
  {
   "cell_type": "code",
   "execution_count": 24,
   "metadata": {
    "vscode": {
     "languageId": "java"
    }
   },
   "outputs": [],
   "source": [
    "// from college board\n",
    "\n",
    "private double findMax(double[] values) {\n",
    "    double max = values[0]; // initialize max with first element of array\n",
    "\n",
    "    for(int i=1; i<values.length; i++) { // starting with the second element, iterate over the rest of the array\n",
    "        if (values[i] > max) { // if the current element is greater than the max\n",
    "            max = values[i]; // set the max equal to the greatest value until that point\n",
    "        }\n",
    "    }\n",
    "\n",
    "    return max; \n",
    "}"
   ]
  },
  {
   "cell_type": "markdown",
   "metadata": {},
   "source": [
    "#### Find the amount of even numbers."
   ]
  },
  {
   "cell_type": "code",
   "execution_count": 25,
   "metadata": {
    "vscode": {
     "languageId": "java"
    }
   },
   "outputs": [],
   "source": [
    "private int findEvenNumbers(int[] values) {\n",
    "        int evenCount = 0; // initalize count of even numbers to zero\n",
    "\n",
    "        for(int value: values) { // iterate over every element of array\n",
    "            if(value % 2 == 0) { // use modulus operator to check if value is even\n",
    "                evenCount += 1; // increment evenCount if the value is even\n",
    "            }\n",
    "        }\n",
    "    \n",
    "        return evenCount; \n",
    "    }"
   ]
  },
  {
   "cell_type": "markdown",
   "metadata": {},
   "source": [
    "### Hack 7\n",
    "\n",
    "Return a left-shifted array\n",
    "\n",
    "Ex\n",
    "- {7,9,4} --> {9,4,7}\n",
    "- {1,2,3} --> {2,3,1}\n",
    "- {0,9} --> {9,0}\n",
    "- {1} --> {1}"
   ]
  },
  {
   "cell_type": "code",
   "execution_count": 41,
   "metadata": {
    "vscode": {
     "languageId": "java"
    }
   },
   "outputs": [
    {
     "data": {
      "text/plain": [
       "[9, 4, 7]"
      ]
     },
     "execution_count": 41,
     "metadata": {},
     "output_type": "execute_result"
    }
   ],
   "source": [
    "public class leftShifted {\n",
    "    public static int[] main(int[] a) {\n",
    "        int first = a[0];\n",
    "        for (int i=1; i<a.length; i++) {\n",
    "            a[i-1] = a[i];\n",
    "        }\n",
    "        a[a.length-1] = first;\n",
    "        return a;\n",
    "    }\n",
    "}\n",
    "\n",
    "int[] array = {7,9,4};\n",
    "int[] array_out = leftShifted.main(array);\n",
    "\n",
    "Arrays.toString(array_out)"
   ]
  },
  {
   "cell_type": "markdown",
   "metadata": {},
   "source": [
    "### Hack 8\n",
    "\n",
    "Find the number of duplicate elements in an array."
   ]
  },
  {
   "cell_type": "code",
   "execution_count": 59,
   "metadata": {
    "vscode": {
     "languageId": "java"
    }
   },
   "outputs": [
    {
     "data": {
      "text/plain": [
       "2"
      ]
     },
     "execution_count": 59,
     "metadata": {},
     "output_type": "execute_result"
    }
   ],
   "source": [
    "public class findDuplicate {\n",
    "    public static int main(int[] a, int b) {\n",
    "        \n",
    "        int d=0;\n",
    "\n",
    "        for (int number : a) {\n",
    "            if (number==b) {\n",
    "                d++;\n",
    "            }\n",
    "        }\n",
    "        return d;\n",
    "    }\n",
    "}\n",
    "\n",
    "int[] array = {7,7,9,4};\n",
    "findDuplicate.main(array, 7);"
   ]
  },
  {
   "cell_type": "markdown",
   "metadata": {},
   "source": [
    "### Hack 9\n",
    "\n",
    "Use arrays to reverse a string.\n",
    "\n",
    "Ex\n",
    "- \\\"hello\\\" --> \\\"olleh\\\"\n",
    "- \\\"slay\\\" --> \\\"yals\\\"\n",
    "- \\\"mom\\\" --> \\\"mom\\\""
   ]
  },
  {
   "cell_type": "code",
   "execution_count": 57,
   "metadata": {
    "vscode": {
     "languageId": "java"
    }
   },
   "outputs": [
    {
     "name": "stdout",
     "output_type": "stream",
     "text": [
      "olleh\n"
     ]
    }
   ],
   "source": [
    "public class reverseString {\n",
    "    public static char[] main(char[] s) {\n",
    "        char[] reverse = new char[s.length];\n",
    "        for (int i=s.length-1; i>=0; i--) {\n",
    "            reverse[s.length-i-1] = s[i];\n",
    "        }\n",
    "\n",
    "        return reverse;\n",
    "    }\n",
    "}\n",
    "\n",
    "String s = \"hello\";\n",
    "char[] c = s.toCharArray();\n",
    "char[] reverse = reverseString.main(c);\n",
    "\n",
    "// Arrays.toString(reverse)\n",
    "String reversed = new String(reverse);\n",
    "System.out.println(reversed);"
   ]
  },
  {
   "cell_type": "markdown",
   "metadata": {},
   "source": [
    "### Homework\n",
    "\n",
    "Finish the FRQ part a for homework. This free response question deals with arrays. "
   ]
  },
  {
   "cell_type": "markdown",
   "metadata": {},
   "source": [
    "![arrayhwquestion](../images/arrayhwquestion.PNG)\n",
    "\n",
    "![arrayhwparta](../images/arrayhwparta.PNG)"
   ]
  },
  {
   "cell_type": "code",
   "execution_count": null,
   "metadata": {
    "vscode": {
     "languageId": "java"
    }
   },
   "outputs": [],
   "source": [
    "public void addMembers(String[] names, int gradYear) {\n",
    "    for (String name : names) {\n",
    "        MemberInfo member = new MemberInfo(name, gradYear, true);\n",
    "        memberList.add(member);\n",
    "    }\n",
    "}"
   ]
  }
 ],
 "metadata": {
  "kernelspec": {
   "display_name": "Java",
   "language": "java",
   "name": "java"
  },
  "language_info": {
   "codemirror_mode": "java",
   "file_extension": ".jshell",
   "mimetype": "text/x-java-source",
   "name": "Java",
   "pygments_lexer": "java",
   "version": "11.0.16+8-post-Ubuntu-0ubuntu120.04"
  },
  "orig_nbformat": 4
 },
 "nbformat": 4,
 "nbformat_minor": 2
}

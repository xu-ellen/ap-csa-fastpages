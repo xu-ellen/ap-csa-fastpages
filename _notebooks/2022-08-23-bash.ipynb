{
 "cells": [
  {
   "cell_type": "markdown",
   "metadata": {},
   "source": [
    "# Bash Blog Post\n",
    "> Notebook showing bash code.\n",
    "\n",
    "- toc: false \n",
    "- badges: true\n",
    "- comments: true\n",
    "- categories: [jupyter]\n",
    "- image: images/chart-preview.png"
   ]
  },
  {
   "cell_type": "code",
   "execution_count": null,
   "metadata": {
    "vscode": {
     "languageId": "shellscript"
    }
   },
   "outputs": [],
   "source": [
    "echo \"hi\""
   ]
  },
  {
   "cell_type": "markdown",
   "metadata": {},
   "source": [
    "# Bash Blog Post\n",
    "\n",
    "- Is there anything we use to verify tools we install? Think about versions.\n",
    "\n",
    "`apt list --installed` or `dpkg` can be used to see installed packages and verify the version of the tools we install.\n",
    "\n",
    "- Is there anything we could verify with Anaconda?\n",
    "\n",
    "`conda list` or `conda info` can be used to see installed packages within conda environment or see what environments we have on our machine.\n",
    "\n",
    "- How would you update a repository?\n",
    "\n",
    "`apt update` or `apt upgrade` can be used to update the packages repository.\n",
    "\n",
    "- Really cool would be automating a procedure from installation.\n",
    "\n",
    "`apt install -y <package>` can be used to install a package and automated into a script."
   ]
  }
 ],
 "metadata": {
  "kernelspec": {
   "display_name": "Bash",
   "language": "bash",
   "name": "bash"
  },
  "language_info": {
   "name": "bash",
   "version": "3.8.10"
  },
  "orig_nbformat": 4,
  "vscode": {
   "interpreter": {
    "hash": "916dbcbb3f70747c44a77c7bcd40155683ae19c65e1c03b4aa3499c5328201f1"
   }
  }
 },
 "nbformat": 4,
 "nbformat_minor": 2
}

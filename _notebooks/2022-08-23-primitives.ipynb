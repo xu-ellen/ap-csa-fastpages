{
 "cells": [
  {
   "cell_type": "markdown",
   "metadata": {},
   "source": [
    "# Primitives\n",
    "> Hacks for primitives.\n",
    "\n",
    "- toc: false \n",
    "- badges: true\n",
    "- comments: true\n",
    "- categories: [jupyter]\n",
    "- image: images/chart-preview.png"
   ]
  },
  {
   "cell_type": "markdown",
   "metadata": {},
   "source": [
    "Build your own Jupyter Notebook meeting these College Board and CTE competencies\n",
    "\n",
    "Define in a Class the following data types\n",
    "Demonstrate use of Primitives: int, double, boolean, string\n",
    "Demonstrate use of Wrapper Class object: String\n",
    "Describe in comments how each data type choice is appropriate to application\n",
    "Perform arithmetic expressions and assignment in a program code Code.org Lesson\n",
    "Determine what is result is in a variable as a result of an data type and expression (ie integer vs double)\n",
    "Perform an arithmetic expressions that uses casting, add comments that show how it produces desired result. Learn more by watching this College Board video\n",
    "Perform compound assignment operator (ie +=), add comments to describe the result of operator\n",
    "Additional requirements\n",
    "\n",
    "Multiple inputs and outputs are required\n",
    "Jupyter NoteBook when committed to Fastpages must display Outputs\n",
    "Building something that helps you study for another class is encouraged, here are some ideas: MPG, GPA, Celsius <--> Fahrenheit, The nth Fibonacci, GCD, Primes in range of numbers, Points per Game"
   ]
  },
  {
   "cell_type": "markdown",
   "metadata": {},
   "source": [
    "### Computing force exerted by two charges"
   ]
  },
  {
   "cell_type": "code",
   "execution_count": null,
   "metadata": {},
   "outputs": [],
   "source": [
    "public class ForceCalculator {\n",
    "\n",
    "    \n",
    "}"
   ]
  }
 ],
 "metadata": {
  "kernelspec": {
   "display_name": "Java",
   "language": "java",
   "name": "java"
  },
  "language_info": {
   "name": "java",
   "version": "3.8.10"
  },
  "orig_nbformat": 4,
  "vscode": {
   "interpreter": {
    "hash": "916dbcbb3f70747c44a77c7bcd40155683ae19c65e1c03b4aa3499c5328201f1"
   }
  }
 },
 "nbformat": 4,
 "nbformat_minor": 2
}

{
 "cells": [
  {
   "cell_type": "markdown",
   "metadata": {},
   "source": [
    "# Primitives\n",
    "> Hacks for primitives.\n",
    "\n",
    "- toc: false \n",
    "- badges: true\n",
    "- comments: true\n",
    "- categories: [jupyter]\n",
    "- image: images/chart-preview.png"
   ]
  },
  {
   "cell_type": "markdown",
   "metadata": {},
   "source": [
    "## Data types usage"
   ]
  },
  {
   "cell_type": "code",
   "execution_count": null,
   "metadata": {
    "vscode": {
     "languageId": "java"
    }
   },
   "outputs": [],
   "source": [
    "int a = 4;\n",
    "float b = 4.0;\n",
    "double c = 4.0;\n",
    "char d = '4';\n",
    "String e = \"4\";\n",
    "boolean f = true;"
   ]
  },
  {
   "cell_type": "markdown",
   "metadata": {},
   "source": [
    "## Print"
   ]
  },
  {
   "cell_type": "code",
   "execution_count": 1,
   "metadata": {
    "vscode": {
     "languageId": "java"
    }
   },
   "outputs": [
    {
     "name": "stdout",
     "output_type": "stream",
     "text": [
      "hi i'm ellen\n"
     ]
    }
   ],
   "source": [
    "String x = \"hi i'm ellen\";\n",
    "System.out.println(x);"
   ]
  },
  {
   "cell_type": "markdown",
   "metadata": {},
   "source": [
    "Build your own Jupyter Notebook meeting these College Board and CTE competencies\n",
    "\n",
    "Define in a Class the following data types\n",
    "Demonstrate use of Primitives: int, double, boolean, string\n",
    "Demonstrate use of Wrapper Class object: String\n",
    "Describe in comments how each data type choice is appropriate to application\n",
    "Perform arithmetic expressions and assignment in a program code Code.org Lesson\n",
    "Determine what is result is in a variable as a result of an data type and expression (ie integer vs double)\n",
    "Perform an arithmetic expressions that uses casting, add comments that show how it produces desired result. Learn more by watching this College Board video\n",
    "Perform compound assignment operator (ie +=), add comments to describe the result of operator\n",
    "Additional requirements\n",
    "\n",
    "Multiple dds and outputs are required\n",
    "Jupyter NoteBook when committed to Fastpages must display Outputs\n",
    "Building something that helps you study for another class is encouraged, here are some ideas: MPG, GPA, Celsius <--> Fahrenheit, The nth Fibonacci, GCD, Primes in range of numbers, Points per Game"
   ]
  },
  {
   "cell_type": "markdown",
   "metadata": {},
   "source": [
    "### Computing force exerted by two charges"
   ]
  },
  {
   "cell_type": "code",
   "execution_count": 3,
   "metadata": {
    "vscode": {
     "languageId": "java"
    }
   },
   "outputs": [],
   "source": [
    "public class ForceCalculator {\n",
    "\n",
    "    public ForceCalculator() {\n",
    "        this.enterVals();\n",
    "    }\n",
    "\n",
    "    private double force;\n",
    "    private double q1;\n",
    "    private double q2;\n",
    "    private double r;\n",
    "    private static double k = 8.987551787e9;\n",
    "\n",
    "    private void enterVals() {\n",
    "\n",
    "        while (true) {\n",
    "            Scanner dd = new Scanner(System.in);\n",
    "            System.out.print(\"Enter q1 (charge of first particle): \");\n",
    "            try {\n",
    "                q1 = dd.nextDouble();\n",
    "                System.out.println(q1);\n",
    "                break;\n",
    "            } catch (Exception e) {\n",
    "                System.out.println(\"Not an double (form like 9.99), \" + e);\n",
    "            }\n",
    "            dd.close();\n",
    "        }\n",
    "\n",
    "        while (true) {\n",
    "            Scanner dd = new Scanner(System.in);\n",
    "            System.out.print(\"Enter q2 (charge of second particle): \");\n",
    "            try {\n",
    "                q2 = dd.nextDouble();\n",
    "                System.out.println(q2);\n",
    "                break;\n",
    "            } catch (Exception e) {\n",
    "                System.out.println(\"Not an double (form like 9.99), \" + e);\n",
    "            }\n",
    "            dd.close();\n",
    "        }\n",
    "\n",
    "        while (true) {\n",
    "            Scanner dd = new Scanner(System.in);\n",
    "            System.out.print(\"Enter r (distance between particles): \");\n",
    "            try {\n",
    "                r = dd.nextDouble();\n",
    "                System.out.println(r);\n",
    "                break;\n",
    "            } catch (Exception e) {\n",
    "                System.out.println(\"Not an double (form like 9.99), \" + e);\n",
    "            }\n",
    "            dd.close();\n",
    "        }\n",
    "    }\n",
    "\n",
    "    public double calculate() {\n",
    "        double k = 8.987551787e9;\n",
    "        force = q1 * q2 * k / (q2 * q2);\n",
    "        return force;\n",
    "    }\n",
    "\n",
    "    public static void main(String[] args) {\n",
    "        ForceCalculator force = new ForceCalculator();\n",
    "        System.out.println(\"Force: \" + String.format(\"%.2f\", force.calculate()));\n",
    "    }\n",
    "    \n",
    "}"
   ]
  },
  {
   "cell_type": "code",
   "execution_count": 4,
   "metadata": {
    "vscode": {
     "languageId": "java"
    }
   },
   "outputs": [
    {
     "name": "stdout",
     "output_type": "stream",
     "text": [
      "Enter q1 (charge of first particle): 1.0\n",
      "Enter q2 (charge of second particle): 2.0\n",
      "Enter r (distance between particles): 1.0\n",
      "Force: 4493775893.50\n"
     ]
    }
   ],
   "source": [
    "ForceCalculator.main(null);"
   ]
  }
 ],
 "metadata": {
  "kernelspec": {
   "display_name": "Java",
   "language": "java",
   "name": "java"
  },
  "language_info": {
   "codemirror_mode": "java",
   "file_extension": ".jshell",
   "mimetype": "text/x-java-source",
   "name": "Java",
   "pygments_lexer": "java",
   "version": "11.0.16+8-post-Ubuntu-0ubuntu120.04"
  },
  "orig_nbformat": 4,
  "vscode": {
   "interpreter": {
    "hash": "916dbcbb3f70747c44a77c7bcd40155683ae19c65e1c03b4aa3499c5328201f1"
   }
  }
 },
 "nbformat": 4,
 "nbformat_minor": 2
}

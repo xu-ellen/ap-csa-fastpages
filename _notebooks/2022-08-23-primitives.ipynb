{
 "cells": [
  {
   "cell_type": "markdown",
   "metadata": {},
   "source": [
    "# Primitives\n",
    "> Hacks for primitives.\n",
    "\n",
    "- toc: false \n",
    "- badges: true\n",
    "- comments: true\n",
    "- categories: [jupyter]\n",
    "- image: images/chart-preview.png"
   ]
  },
  {
   "cell_type": "markdown",
   "metadata": {},
   "source": [
    "Build your own Jupyter Notebook meeting these College Board and CTE competencies\n",
    "\n",
    "Define in a Class the following data types\n",
    "Demonstrate use of Primitives: int, double, boolean, string\n",
    "Demonstrate use of Wrapper Class object: String\n",
    "Describe in comments how each data type choice is appropriate to application\n",
    "Perform arithmetic expressions and assignment in a program code Code.org Lesson\n",
    "Determine what is result is in a variable as a result of an data type and expression (ie integer vs double)\n",
    "Perform an arithmetic expressions that uses casting, add comments that show how it produces desired result. Learn more by watching this College Board video\n",
    "Perform compound assignment operator (ie +=), add comments to describe the result of operator\n",
    "Additional requirements\n",
    "\n",
    "Multiple inputs and outputs are required\n",
    "Jupyter NoteBook when committed to Fastpages must display Outputs\n",
    "Building something that helps you study for another class is encouraged, here are some ideas: MPG, GPA, Celsius <--> Fahrenheit, The nth Fibonacci, GCD, Primes in range of numbers, Points per Game"
   ]
  },
  {
   "cell_type": "markdown",
   "metadata": {},
   "source": [
    "### Computing force exerted by two charges"
   ]
  },
  {
   "cell_type": "code",
   "execution_count": 10,
   "metadata": {
    "vscode": {
     "languageId": "java"
    }
   },
   "outputs": [
    {
     "ename": "CompilationException",
     "evalue": "",
     "output_type": "error",
     "traceback": [
      "\u001b[1m\u001b[30m|   \u001b[1m\u001b[30m        this.force = new double\u001b[0m\u001b[1m\u001b[30m\u001b[41m\u001b[0m\u001b[1m\u001b[30m;\u001b[0m",
      "\u001b[1m\u001b[31m'[' expected\u001b[0m",
      "",
      "\u001b[1m\u001b[30m|   \u001b[1m\u001b[30m        this.q1 = new double\u001b[0m\u001b[1m\u001b[30m\u001b[41m\u001b[0m\u001b[1m\u001b[30m;\u001b[0m",
      "\u001b[1m\u001b[31m'[' expected\u001b[0m",
      "",
      "\u001b[1m\u001b[30m|   \u001b[1m\u001b[30m        this.q2 = new double\u001b[0m\u001b[1m\u001b[30m\u001b[41m\u001b[0m\u001b[1m\u001b[30m;\u001b[0m",
      "\u001b[1m\u001b[31m'[' expected\u001b[0m",
      "",
      "\u001b[1m\u001b[30m|   \u001b[1m\u001b[30m        this.r = new double\u001b[0m\u001b[1m\u001b[30m\u001b[41m\u001b[0m\u001b[1m\u001b[30m;\u001b[0m",
      "\u001b[1m\u001b[31m'[' expected\u001b[0m",
      ""
     ]
    }
   ],
   "source": [
    "public class ForceCalculator {\n",
    "\n",
    "    public ForceCalculator() {\n",
    "        this.force = new double;\n",
    "        this.q1 = new double;\n",
    "        this.q2 = new double;\n",
    "        this.r = new double;\n",
    "        this.enterVals();\n",
    "    }\n",
    "\n",
    "    private void enterVals() {\n",
    "        Scanner dd = new Scanner(System.in);\n",
    "        System.out.print(\"Enter q1 (charge of first particle): \");\n",
    "        try {\n",
    "            this.q1 = input.nextDouble();\n",
    "            System.out.println(this.q1);\n",
    "        } catch (Exception e) {\n",
    "            System.out.println(\"Not an double (form like 9.99), \" + e);\n",
    "        }\n",
    "\n",
    "        System.out.print(\"Enter q2 (charge of second particle): \");\n",
    "        try {\n",
    "            this.q2 = input.nextDouble();\n",
    "            System.out.println(this.q2);\n",
    "        } catch (Exception e) {\n",
    "            System.out.println(\"Not an double (form like 9.99), \" + e);\n",
    "        }\n",
    "\n",
    "        System.out.print(\"Enter r (distance between particles): \");\n",
    "        try {\n",
    "            this.r = input.nextDouble();\n",
    "            System.out.println(this.r);\n",
    "        } catch (Exception e) {\n",
    "            System.out.println(\"Not an double (form like 9.99), \" + e);\n",
    "        }\n",
    "    }\n",
    "\n",
    "    public double calculate() {\n",
    "        double k = 8.987551787e9;\n",
    "        double force = this.q1 * this.q2 * k / (this.r * this.r);\n",
    "        return force;\n",
    "    }\n",
    "\n",
    "    public static void main(String[] args) {\n",
    "        ForceCalculator force = new ForceCalculator();\n",
    "        System.out.println(\"Force: \" + String.format(\"%.2f\", force.calculate()));\n",
    "    }\n",
    "    \n",
    "}"
   ]
  },
  {
   "cell_type": "code",
   "execution_count": null,
   "metadata": {
    "vscode": {
     "languageId": "java"
    }
   },
   "outputs": [],
   "source": [
    "ForceCalculator.main(null);"
   ]
  }
 ],
 "metadata": {
  "kernelspec": {
   "display_name": "Java",
   "language": "java",
   "name": "java"
  },
  "language_info": {
   "codemirror_mode": "java",
   "file_extension": ".jshell",
   "mimetype": "text/x-java-source",
   "name": "Java",
   "pygments_lexer": "java",
   "version": "11.0.16+8-post-Ubuntu-0ubuntu120.04"
  },
  "orig_nbformat": 4,
  "vscode": {
   "interpreter": {
    "hash": "916dbcbb3f70747c44a77c7bcd40155683ae19c65e1c03b4aa3499c5328201f1"
   }
  }
 },
 "nbformat": 4,
 "nbformat_minor": 2
}

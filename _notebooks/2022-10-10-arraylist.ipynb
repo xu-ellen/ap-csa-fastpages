{
 "cells": [
  {
   "cell_type": "markdown",
   "metadata": {},
   "source": [
    "# Arraylist\n",
    "> Java arraylists  \n",
    "\n",
    "- toc: true\n",
    "- badges: true\n",
    "- comments: true\n",
    "- categories: [jupyter]"
   ]
  },
  {
   "cell_type": "code",
   "execution_count": 1,
   "metadata": {
    "vscode": {
     "languageId": "java"
    }
   },
   "outputs": [
    {
     "name": "stdout",
     "output_type": "stream",
     "text": [
      "[Football, Basketball, Soccer, Baseball, Tennis]\n",
      " \n",
      "Football\n",
      "Basketball\n",
      "Soccer\n",
      "Baseball\n",
      "Tennis\n",
      " \n",
      "The size of the array is 5\n",
      "The 3 array has been changed to Golf\n",
      " \n",
      "The array list is in alphabetical order:\n",
      "Basketball\n",
      "Football\n",
      "Golf\n",
      "Soccer\n",
      "Tennis\n",
      " \n",
      "The array list is now empty and says:[]\n"
     ]
    }
   ],
   "source": [
    "// Arraylist\n",
    "\n",
    "import java.util.ArrayList;\n",
    "import java.util.Collections;\n",
    "\n",
    "public class Main {\n",
    "    public static void main() {\n",
    "        ArrayList<String> sports = new ArrayList<String>(); //Creates a new array\n",
    "        sports.add(\"Football\");\n",
    "        sports.add(\"Basketball\"); //adds different sports to the array\n",
    "        sports.add(\"Soccer\");\n",
    "        sports.add(\"Baseball\");\n",
    "        sports.add(\"Tennis\");\n",
    "        System.out.println(sports); // prints the array\n",
    "\n",
    "        System.out.println(\" \");\n",
    "\n",
    "        for (int i = 0; i < 5; i++) {\n",
    "            System.out.println(sports.get(i)); // prints each array separately\n",
    "        }\n",
    "\n",
    "        System.out.println(\" \");\n",
    "        System.out.println(\"The size of the array is \" + sports.size()); //prints the size of the array\n",
    "\n",
    "        sports.set(3, \"Golf\"); // changes the 3 array to \"Golf\"\n",
    "        System.out.println(\"The 3 array has been changed to \" + sports.get(3));\n",
    "\n",
    "        System.out.println(\" \");\n",
    "\n",
    "        Collections.sort(sports); //sorts the array in alphabetical order\n",
    "        System.out.println(\"The array list is in alphabetical order:\");\n",
    "        for (String i : sports) {\n",
    "            System.out.println(i);\n",
    "        }\n",
    "\n",
    "        System.out.println(\" \");\n",
    "        sports.clear(); //clears the array\n",
    "        System.out.println(\"The array list is now empty and says:\" + sports);\n",
    "    }\n",
    "}\n",
    "\n",
    "Main.main();"
   ]
  },
  {
   "cell_type": "markdown",
   "metadata": {},
   "source": [
    "### Arraylist for PBL"
   ]
  },
  {
   "cell_type": "code",
   "execution_count": 6,
   "metadata": {
    "vscode": {
     "languageId": "java"
    }
   },
   "outputs": [
    {
     "name": "stdout",
     "output_type": "stream",
     "text": [
      "[Mercury, Venus, Earth, Mars, Jupiter, Saturn, Uranus, Neptune]\n",
      "\n",
      "The size of the array is 8\n",
      "\n",
      "The 2 array has been changed to Pluto\n",
      "\n",
      "The array list is in alphabetical order:\n",
      "Jupiter\n",
      "Mars\n",
      "Mercury\n",
      "Neptune\n",
      "Pluto\n",
      "Saturn\n",
      "Uranus\n",
      "Venus\n",
      " \n",
      "The array list is now empty and says:[]\n"
     ]
    }
   ],
   "source": [
    "// Arraylist for planets\n",
    "\n",
    "import java.util.ArrayList;\n",
    "import java.util.Collections;\n",
    "\n",
    "public class Main {\n",
    "    public static void main() {\n",
    "        ArrayList<String> planets = new ArrayList<String>(); //Creates a new array\n",
    "        planets.add(\"Mercury\");\n",
    "        planets.add(\"Venus\"); //adds different planets to the array\n",
    "        planets.add(\"Earth\");\n",
    "        planets.add(\"Mars\");\n",
    "        planets.add(\"Jupiter\");\n",
    "        planets.add(\"Saturn\");\n",
    "        planets.add(\"Uranus\");\n",
    "        planets.add(\"Neptune\");\n",
    "\n",
    "        System.out.println(planets + \"\\n\");\n",
    "        \n",
    "        System.out.println(\"The size of the array is \" + planets.size() + \"\\n\"); //prints the size of the array\n",
    "\n",
    "        planets.set(2, \"Pluto\"); // changes the 2 array to \"Pluto\"\n",
    "        System.out.println(\"The 2 array has been changed to \" + planets.get(2) + \"\\n\");\n",
    "\n",
    "        Collections.sort(planets); //sorts the array in alphabetical order\n",
    "        System.out.println(\"The array list is in alphabetical order:\");\n",
    "        for (String i : planets) {\n",
    "            System.out.println(i);\n",
    "        }\n",
    "\n",
    "        System.out.println(\" \");\n",
    "        planets.clear(); //clears the array\n",
    "        System.out.println(\"The array list is now empty and says:\" + planets);\n",
    "    }\n",
    "}\n",
    "\n",
    "Main.main();"
   ]
  }
 ],
 "metadata": {
  "kernelspec": {
   "display_name": "Java",
   "language": "java",
   "name": "java"
  },
  "language_info": {
   "codemirror_mode": "java",
   "file_extension": ".jshell",
   "mimetype": "text/x-java-source",
   "name": "Java",
   "pygments_lexer": "java",
   "version": "11.0.16+8-post-Ubuntu-0ubuntu120.04"
  },
  "orig_nbformat": 4
 },
 "nbformat": 4,
 "nbformat_minor": 2
}

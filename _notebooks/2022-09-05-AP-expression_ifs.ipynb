{
 "cells": [
  {
   "cell_type": "markdown",
   "metadata": {},
   "source": [
    "# Boolean Expressions and If Statements\n",
    "> Focus on Ifs, Switch, Expressions and how to build control structures in Java.\n",
    "\n",
    "- toc: true\n",
    "- badges: true\n",
    "- comments: true\n",
    "- categories: [jupyter]"
   ]
  },
  {
   "cell_type": "markdown",
   "metadata": {},
   "source": [
    "## Expression, Assignments, and Condition Statements\n",
    "All of the Units have video series.  We have access to information and content for College Board and Code.org.  Below are two sample videos, it is up to you to determine the detail or brevity that you will need according to your experience.\n",
    "- AP Classroom [Boolean Expressions](https://apclassroom.collegeboard.org/8/home?apd=5kbsvu3q3p&unit=3)\n",
    "- Code.org [If and Conditions](https://www.youtube.com/watch?v=2rQmLwYVYpw), less than 2 minutes"
   ]
  },
  {
   "cell_type": "markdown",
   "metadata": {},
   "source": [
    "### Introduction to Boolean expression\n",
    "A Boolean expression is a logical statement that can be evaluated to True or False.  A Boolean expression may be composed of a combination of the Boolean constants true or false."
   ]
  },
  {
   "cell_type": "code",
   "execution_count": 4,
   "metadata": {},
   "outputs": [
    {
     "name": "stdout",
     "output_type": "stream",
     "text": [
      "True code block\n",
      "True and Not False code block\n",
      "True or False code block\n",
      "Confusing code block\n",
      "De Morgan's law of confusing code block\n"
     ]
    }
   ],
   "source": [
    "// All of the boolean expressions below evaluate to true\n",
    "\n",
    "if (true) {\n",
    "    System.out.println(\"True code block\");\n",
    "}\n",
    "\n",
    "if (true && !false) {\n",
    "    System.out.println(\"True and Not False code block\");\n",
    "}\n",
    "\n",
    "if (true || false) {\n",
    "    System.out.println(\"True or False code block\");\n",
    "}\n",
    "\n",
    "if ((true && !false) && (true || false)) {\n",
    "    System.out.println(\"Confusing code block\");\n",
    "}\n",
    "\n",
    "if (!((false || !true) || (false && true))) {\n",
    "    System.out.println(\"De Morgan's law in my head of confusing code block\");\n",
    "}\n",
    "\n",
    "// Can any of the above expression be simplified?  What would they simplify to?  Are any of these expressions useful?\n"
   ]
  },
  {
   "cell_type": "markdown",
   "metadata": {},
   "source": [
    " ## Hacks\n",
    "Build your own Jupyter Notebook lesson on ifs\n",
    "- Explain if, if-else, and if-elseif-else.\n",
    "- Make a markdown block before you sample code\n",
    "- Comment in code to describe each decision \n",
    "\n",
    "Add to lesson switch-case\n",
    "1. Create and if-elseif-elseif-elsif-else statement, 5 or more conditions. \n",
    "2. Covert the 5 or more decisions to a switch-case-case-case-case-otherwise.\n",
    "3. Make a markdown block before each code example\n",
    "4. Comment/establish a style of comments for your if-elseif and switch-case code blocks\n",
    "\n",
    "Finish lesson with De Morgan's law\n",
    "1. Describe De Morgan's law\n",
    "2. Illustrate De Morgan's law\n",
    "3. Show some code running that shows understanding\n",
    "\n",
    "Resources, it is really time to show you can find resources beyond the Teacher.   Code/Code/Coding is everywhere, find something that helps.\n",
    "1. [Code.org](https://studio.code.org/s/csa4-2022?section_id=4160330) Unitt 4 section 1 to 5 can help with some ideas.\n",
    "2. [AP Classroom unit 3](https://apclassroom.collegeboard.org/8/home?unit=3) has outline for unit\n",
    "3. [CodeAcademy](https://www.codecademy.com/learn/learn-java/modules/learn-java-conditionals-control-flow-u) has some online resources"
   ]
  }
 ],
 "metadata": {
  "kernelspec": {
   "display_name": "Java",
   "language": "java",
   "name": "java"
  },
  "language_info": {
   "codemirror_mode": "java",
   "file_extension": ".jshell",
   "mimetype": "text/x-java-source",
   "name": "java",
   "pygments_lexer": "java",
   "version": "17.0.3+7"
  },
  "orig_nbformat": 4,
  "vscode": {
   "interpreter": {
    "hash": "8b82d5009c68ba5675978267e2b13a671f2a7143d61273c5a3813c97e0b2493d"
   }
  }
 },
 "nbformat": 4,
 "nbformat_minor": 2
}
